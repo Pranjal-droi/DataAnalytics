{
 "cells": [
  {
   "cell_type": "markdown",
   "id": "19f98a67-cb26-464c-b2fd-79744f5b4d74",
   "metadata": {},
   "source": [
    "Pranjal Tiwari\n",
    "E1 BCA \n",
    "Batch 3\n",
    "Roll no. : 03224402024"
   ]
  },
  {
   "cell_type": "markdown",
   "id": "07f08048-593d-4f26-b160-f67bc8fdc121",
   "metadata": {},
   "source": [
    "# 1. ATM Machine Simulation"
   ]
  },
  {
   "cell_type": "code",
   "execution_count": 6,
   "id": "b1687de9-eaf7-47df-b9e7-1a6f09bf83c1",
   "metadata": {},
   "outputs": [
    {
     "name": "stdin",
     "output_type": "stream",
     "text": [
      "Insert card? (yes/no):  yes\n",
      "Select language (English/Hindi):  english\n",
      "Select account type (Saving/Current):  saving\n",
      "Enter 4-digit PIN:  1234\n"
     ]
    },
    {
     "name": "stdout",
     "output_type": "stream",
     "text": [
      "PIN verified successfully.\n"
     ]
    },
    {
     "name": "stdin",
     "output_type": "stream",
     "text": [
      "Select option: Balance, Withdraw, Mini Statement:  mini statement\n"
     ]
    },
    {
     "name": "stdout",
     "output_type": "stream",
     "text": [
      "Mini Statement: Last 3 transactions\n",
      "1. Rs.500 debited\n",
      "2. Rs.2000 credited\n",
      "3. Rs.100 debited\n"
     ]
    }
   ],
   "source": [
    "card_inserted = input(\"Insert card? (yes/no): \").lower()\n",
    "if card_inserted == \"no\":\n",
    "    print(\"Please insert your card to proceed.\")\n",
    "else:\n",
    "    language = input(\"Select language (English/Hindi): \").capitalize()\n",
    "    if language not in [\"English\", \"Hindi\"]:\n",
    "        print(\"Invalid language selected.\")\n",
    "    else:\n",
    "        account_type = input(\"Select account type (Saving/Current): \").capitalize()\n",
    "        if account_type not in [\"Saving\", \"Current\"]:\n",
    "            print(\"Invalid account type.\")\n",
    "        else:\n",
    "            pin = input(\"Enter 4-digit PIN: \")\n",
    "            if pin != \"1234\":\n",
    "                print(\"Incorrect PIN entered.\")\n",
    "            else:\n",
    "                print(\"PIN verified successfully.\")\n",
    "                option = input(\"Select option: Balance, Withdraw, Mini Statement: \").lower()\n",
    "                balance = 10000\n",
    "\n",
    "                if option == \"balance\":\n",
    "                    print(f\"Your available balance is Rs.{balance}\")\n",
    "\n",
    "                elif option == \"withdraw\":\n",
    "                    amount = int(input(\"Enter withdrawal amount: \"))\n",
    "                    if amount > balance:\n",
    "                        print(\"Insufficient balance.\")\n",
    "                    elif amount <= 0:\n",
    "                        print(\"Invalid withdrawal amount.\")\n",
    "                    else:\n",
    "                        balance -= amount\n",
    "                        print(f\"Rs.{amount} withdrawn successfully. Remaining balance: Rs.{balance}\")\n",
    "\n",
    "                elif option == \"mini statement\":\n",
    "                    print(\"Mini Statement: Last 3 transactions\\n1. Rs.500 debited\\n2. Rs.2000 credited\\n3. Rs.100 debited\")\n",
    "\n",
    "                else:\n",
    "                    print(\"Invalid option selected.\")\n"
   ]
  },
  {
   "cell_type": "markdown",
   "id": "b226c806-df32-4165-b114-cde26a0aab56",
   "metadata": {},
   "source": [
    "# 2. Promocode Discount System"
   ]
  },
  {
   "cell_type": "code",
   "execution_count": 7,
   "id": "fa09fb1a-d571-4903-9f66-d111e943bea3",
   "metadata": {},
   "outputs": [
    {
     "name": "stdin",
     "output_type": "stream",
     "text": [
      "Enter promocode:  Firstbuy\n",
      "Enter purchase amount: Rs.  8000\n",
      "Is it your first purchase? (yes/no):  yes\n"
     ]
    },
    {
     "name": "stdout",
     "output_type": "stream",
     "text": [
      "✅ Promocode applied. You saved Rs.100.00\n",
      "💰 Final amount to pay: Rs.7900.00\n"
     ]
    }
   ],
   "source": [
    "code = input(\"Enter promocode: \").upper()\n",
    "amount = float(input(\"Enter purchase amount: Rs. \"))\n",
    "first_time = input(\"Is it your first purchase? (yes/no): \").lower()\n",
    "\n",
    "discount = 0\n",
    "\n",
    "if code == \"SAVE10\" and amount > 1000:\n",
    "    discount = amount * 0.10\n",
    "\n",
    "elif code == \"FIRSTBUY\" and first_time == \"yes\":\n",
    "    discount = 100\n",
    "\n",
    "elif code == \"FREESHIP\" and amount > 500:\n",
    "    discount = 50  # Assuming free shipping worth Rs.50\n",
    "\n",
    "elif code == \"SUPER25\" and 3000 <= amount <= 5000:\n",
    "    discount = amount * 0.25\n",
    "\n",
    "elif code == \"BULKBUY\" and amount > 7000:\n",
    "    discount = 500\n",
    "\n",
    "# Show results\n",
    "if discount > 0:\n",
    "    final = amount - discount\n",
    "    print(f\"✅ Promocode applied. You saved Rs.{discount:.2f}\")\n",
    "else:\n",
    "    final = amount\n",
    "    print(\"❌ No discount applied.\")\n",
    "\n",
    "print(f\"💰 Final amount to pay: Rs.{final:.2f}\")\n"
   ]
  },
  {
   "cell_type": "markdown",
   "id": "c0fb0952-0793-4809-842d-9fa43125a371",
   "metadata": {},
   "source": [
    "# 3. Weather Clothing Advisor"
   ]
  },
  {
   "cell_type": "code",
   "execution_count": 8,
   "id": "eb1acd59-a066-4ee0-9a2d-6fcfaae32d03",
   "metadata": {},
   "outputs": [
    {
     "name": "stdin",
     "output_type": "stream",
     "text": [
      "Enter city (Delhi, Mumbai, Shimla):  mumbai\n",
      "Enter weather condition (Sunny, Rainy, Snowy):  rainy\n",
      "Enter time of day (Morning, Afternoon, Night):  afternoon\n"
     ]
    },
    {
     "name": "stdout",
     "output_type": "stream",
     "text": [
      "☔ Carry an umbrella.\n"
     ]
    }
   ],
   "source": [
    "city = input(\"Enter city (Delhi, Mumbai, Shimla): \").capitalize()\n",
    "weather = input(\"Enter weather condition (Sunny, Rainy, Snowy): \").capitalize()\n",
    "time = input(\"Enter time of day (Morning, Afternoon, Night): \").capitalize()\n",
    "\n",
    "if city == \"Shimla\" and weather == \"Snowy\" and time == \"Night\":\n",
    "    print(\"🧥 Wear a jacket and gloves.\")\n",
    "elif city == \"Shimla\" and weather == \"Sunny\":\n",
    "    print(\"😎 Wear a light sweater.\")\n",
    "elif city == \"Mumbai\" and weather == \"Rainy\" and time == \"Afternoon\":\n",
    "    print(\"☔ Carry an umbrella.\")\n",
    "elif city == \"Delhi\" and weather == \"Sunny\" and time == \"Afternoon\":\n",
    "    print(\"🧢 Wear cotton clothes and a cap.\")\n",
    "elif city == \"Delhi\" and weather == \"Rainy\":\n",
    "    print(\"☂️ Take an umbrella with you.\")\n",
    "else:\n",
    "    print(\"👕 Wear comfortable clothes based on the weather.\")\n",
    "\n"
   ]
  },
  {
   "cell_type": "markdown",
   "id": "bb47f24d-48a8-48f7-b748-d4ea98655884",
   "metadata": {},
   "source": [
    "# 4. Fever Checker with Medicine Suggestion"
   ]
  },
  {
   "cell_type": "code",
   "execution_count": 10,
   "id": "22137cd4-1005-47e4-88c3-40239b065ae7",
   "metadata": {},
   "outputs": [
    {
     "name": "stdin",
     "output_type": "stream",
     "text": [
      "Enter body temperature (°F):  98\n",
      "Do you have cough? (yes/no):  no\n",
      "Do you have cold? (yes/no):  yes\n",
      "Do you have body pain? (yes/no):  yes\n",
      "Enter age group (<12, 1260, 60+):  18\n"
     ]
    },
    {
     "name": "stdout",
     "output_type": "stream",
     "text": [
      "🛌 Mild fever with body pain. Recommend rest and ORS.\n"
     ]
    }
   ],
   "source": [
    "temp = float(input(\"Enter body temperature (°F): \"))\n",
    "cough = input(\"Do you have cough? (yes/no): \").lower()\n",
    "cold = input(\"Do you have cold? (yes/no): \").lower()\n",
    "body_pain = input(\"Do you have body pain? (yes/no): \").lower()\n",
    "age_group = input(\"Enter age group (<12, 1260, 60+): \")\n",
    "\n",
    "if temp > 101 and age_group == \"60+\":\n",
    "    print(\"👨‍⚕️ High fever detected in senior age group. Suggest doctor visit.\")\n",
    "elif temp > 100 and cough == \"yes\":\n",
    "    print(\"💊 Suggest Paracetamol and stay hydrated.\")\n",
    "elif temp < 100 and body_pain == \"yes\":\n",
    "    print(\"🛌 Mild fever with body pain. Recommend rest and ORS.\")\n",
    "elif temp > 99 and cold == \"yes\":\n",
    "    print(\"🌡️ Take steam inhalation and drink warm fluids.\")\n",
    "else:\n",
    "    print(\"🙂 No severe symptoms detected. Monitor condition and rest well.\")\n"
   ]
  },
  {
   "cell_type": "markdown",
   "id": "bcabb73a-9496-4d12-99ba-31cdc75670b3",
   "metadata": {},
   "source": [
    "# 5. Airport Travel Readiness Check"
   ]
  },
  {
   "cell_type": "code",
   "execution_count": 11,
   "id": "a148215d-e972-4a66-8ab6-de23ddb7e19f",
   "metadata": {},
   "outputs": [
    {
     "name": "stdin",
     "output_type": "stream",
     "text": [
      "Do you have a valid passport? (yes/no):  no\n",
      "Do you have a visa? (yes/no):  no\n",
      "Is your ticket confirmed? (yes/no):  no\n",
      "Have you completed web check-in? (yes/no):  no\n"
     ]
    },
    {
     "name": "stdout",
     "output_type": "stream",
     "text": [
      "🚫 You are not ready yet. Pending steps:\n",
      "- Valid passport is required.\n",
      "- Visa is missing.\n",
      "- Ticket confirmation is pending.\n",
      "- Complete web check-in.\n"
     ]
    }
   ],
   "source": [
    "passport = input(\"Do you have a valid passport? (yes/no): \").lower()\n",
    "visa = input(\"Do you have a visa? (yes/no): \").lower()\n",
    "ticket = input(\"Is your ticket confirmed? (yes/no): \").lower()\n",
    "checkin = input(\"Have you completed web check-in? (yes/no): \").lower()\n",
    "\n",
    "if passport == \"yes\" and visa == \"yes\" and ticket == \"yes\" and checkin == \"yes\":\n",
    "    print(\"✅ You're ready to fly!\")\n",
    "else:\n",
    "    print(\"🚫 You are not ready yet. Pending steps:\")\n",
    "    if passport != \"yes\":\n",
    "        print(\"- Valid passport is required.\")\n",
    "    if visa != \"yes\":\n",
    "        print(\"- Visa is missing.\")\n",
    "    if ticket != \"yes\":\n",
    "        print(\"- Ticket confirmation is pending.\")\n",
    "    if checkin != \"yes\":\n",
    "        print(\"- Complete web check-in.\")"
   ]
  }
 ],
 "metadata": {
  "kernelspec": {
   "display_name": "Python 3 (ipykernel)",
   "language": "python",
   "name": "python3"
  },
  "language_info": {
   "codemirror_mode": {
    "name": "ipython",
    "version": 3
   },
   "file_extension": ".py",
   "mimetype": "text/x-python",
   "name": "python",
   "nbconvert_exporter": "python",
   "pygments_lexer": "ipython3",
   "version": "3.13.5"
  }
 },
 "nbformat": 4,
 "nbformat_minor": 5
}
