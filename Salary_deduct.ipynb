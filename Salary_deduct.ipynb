{
  "nbformat": 4,
  "nbformat_minor": 0,
  "metadata": {
    "colab": {
      "provenance": []
    },
    "kernelspec": {
      "name": "python3",
      "display_name": "Python 3"
    },
    "language_info": {
      "name": "python"
    }
  },
  "cells": [
    {
      "cell_type": "code",
      "execution_count": 2,
      "metadata": {
        "id": "yVgOHSy1KOUd",
        "colab": {
          "base_uri": "https://localhost:8080/"
        },
        "outputId": "576bc996-1df8-464c-d04b-7f3f71435089"
      },
      "outputs": [
        {
          "output_type": "stream",
          "name": "stdout",
          "text": [
            "enter salary80000\n",
            "your salary is 72000.0\n"
          ]
        }
      ],
      "source": [
        "sal=int(input(\"enter salary\"))\n",
        "if sal>75000:\n",
        "    sal= sal - (sal*0.10)\n",
        "    print(\"your salary is\" ,sal)\n",
        "elif sal>55000 and sal<75000:\n",
        "    sal= sal - (sal*0.07)\n",
        "    print(\"your salary is\" ,sal)\n",
        "elif sal>35000 and sal<50000:\n",
        "    sal= sal - (sal*0.05)\n",
        "    print(\"your salary is\" ,sal)\n",
        "else:\n",
        " print(\"no deduction\")"
      ]
    },
    {
      "cell_type": "code",
      "source": [],
      "metadata": {
        "id": "062T9vYGuHaz"
      },
      "execution_count": null,
      "outputs": []
    }
  ]
}