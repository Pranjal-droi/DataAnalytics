{
 "cells": [
  {
   "cell_type": "code",
   "execution_count": 9,
   "id": "67c6d297-f294-4f0e-9d7c-ac9df3f2cb1a",
   "metadata": {},
   "outputs": [
    {
     "name": "stdout",
     "output_type": "stream",
     "text": [
      "[1. 2. 3. 4. 5.]\n"
     ]
    }
   ],
   "source": [
    "#Q-1 CAA WITH THE HELP OF LIST WITH ALL ELEMENT AS FLOAT\n",
    "import numpy as np\n",
    "plist = [1, 2, 3, 4, 5]\n",
    "farray = np.array(plist, dtype=float)\n",
    "print(farray)"
   ]
  },
  {
   "cell_type": "code",
   "execution_count": 10,
   "id": "bb6e3a0a-2702-4971-8aee-a69c3398bae2",
   "metadata": {},
   "outputs": [
    {
     "name": "stdout",
     "output_type": "stream",
     "text": [
      "[[1. 1. 1. 1. 1. 1.]\n",
      " [1. 1. 1. 1. 1. 1.]\n",
      " [1. 1. 1. 1. 1. 1.]\n",
      " [1. 1. 1. 1. 1. 1.]\n",
      " [1. 1. 1. 1. 1. 1.]]\n"
     ]
    }
   ],
   "source": [
    "#Q-2 CAA WITH THE HELP OF ONES WITH 5 ROWS AND 6 COLUMNS \n",
    "a=np.ones((5,6))\n",
    "print(a)"
   ]
  },
  {
   "cell_type": "code",
   "execution_count": 11,
   "id": "9b9b797f-0b91-4b6a-87f8-dd6d7308ab19",
   "metadata": {},
   "outputs": [
    {
     "name": "stdout",
     "output_type": "stream",
     "text": [
      "[[66.67 66.67 66.67 66.67 66.67]\n",
      " [66.67 66.67 66.67 66.67 66.67]\n",
      " [66.67 66.67 66.67 66.67 66.67]\n",
      " [66.67 66.67 66.67 66.67 66.67]]\n"
     ]
    }
   ],
   "source": [
    "#Q-3 CAA WITH HELP OF FULL WITH 4 ROWS AND 5 COLUMNS AND VALUE AS 66.67\n",
    "a=np.full((4,5),66.67)\n",
    "print(a)"
   ]
  },
  {
   "cell_type": "code",
   "execution_count": 12,
   "id": "61ebaf88-b26a-4304-992d-1316fe522aea",
   "metadata": {},
   "outputs": [
    {
     "name": "stdout",
     "output_type": "stream",
     "text": [
      "[ 2.  4.  6.  8. 10. 12. 14. 16. 18. 20.]\n"
     ]
    }
   ],
   "source": [
    "#Q-4 CAA WITH LINSPACE WITH EQUAL SPACING OF 2\n",
    "a = np.linspace(2, 20, 10)\n",
    "print(a)"
   ]
  },
  {
   "cell_type": "code",
   "execution_count": 13,
   "id": "0b4de029-c384-443b-996b-1bd9644a466f",
   "metadata": {},
   "outputs": [
    {
     "name": "stdout",
     "output_type": "stream",
     "text": [
      "[ 1  5  9 13 17 21 25 29]\n"
     ]
    }
   ],
   "source": [
    "#Q-5 CAA WITH HELP OF ARANGE WITHH STEP OF 4\n",
    "a=np.arange(1,30,4)\n",
    "print(a)"
   ]
  },
  {
   "cell_type": "code",
   "execution_count": 14,
   "id": "df71a17a-76bb-43c7-9f58-3e74dd5affd6",
   "metadata": {},
   "outputs": [
    {
     "name": "stdout",
     "output_type": "stream",
     "text": [
      "[10.12229836 10.18955791 10.83015545 10.27455927 10.70111775 10.24606397\n",
      " 10.12656909 10.46743177 10.68754649 10.69068618 10.46505647 10.94957988\n",
      " 10.10581193 10.65035323 10.83718886 10.85930016 10.12213124 10.29601914\n",
      " 10.42099172 10.70403744]\n"
     ]
    }
   ],
   "source": [
    "#Q-6 CAA WITH HELP OF RANDOM FUNCTION WITH 20 RANDOM VALUES B/W 10 & 11\n",
    "a=np.random.random(20) +10\n",
    "print(a)"
   ]
  },
  {
   "cell_type": "code",
   "execution_count": 15,
   "id": "6a8e53cb-1291-42d2-b930-acf3b3736a55",
   "metadata": {},
   "outputs": [
    {
     "name": "stdout",
     "output_type": "stream",
     "text": [
      "22\n"
     ]
    }
   ],
   "source": [
    "#Q-7 CAA WITH HELP OF RANDOMINT B/W 10 & 40\n",
    "a=np.random.randint(10,40)\n",
    "print(a)"
   ]
  },
  {
   "cell_type": "code",
   "execution_count": null,
   "id": "9a480dda-cd82-4503-99e2-eaa82d37b03f",
   "metadata": {},
   "outputs": [],
   "source": []
  }
 ],
 "metadata": {
  "kernelspec": {
   "display_name": "Python 3 (ipykernel)",
   "language": "python",
   "name": "python3"
  },
  "language_info": {
   "codemirror_mode": {
    "name": "ipython",
    "version": 3
   },
   "file_extension": ".py",
   "mimetype": "text/x-python",
   "name": "python",
   "nbconvert_exporter": "python",
   "pygments_lexer": "ipython3",
   "version": "3.13.5"
  }
 },
 "nbformat": 4,
 "nbformat_minor": 5
}
