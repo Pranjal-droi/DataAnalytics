{
 "cells": [
  {
   "cell_type": "code",
   "execution_count": 4,
   "id": "637a1d04-e036-4102-8fae-49d9337b282f",
   "metadata": {},
   "outputs": [
    {
     "name": "stdout",
     "output_type": "stream",
     "text": [
      "data written to data.text\n",
      "file_path-- C:\\Users\\tiwar\\data.txt\n"
     ]
    }
   ],
   "source": [
    "file=open(\"data.txt\",\"w\")\n",
    "file.write(\"Name,age,city\\n\")\n",
    "file.write(\"Alice,28,New york\\n\")\n",
    "file.write(\"Bob,38,Delhi\\n\")\n",
    "file.close()\n",
    "print(\"data written to data.text\")\n",
    "\n",
    "import os\n",
    "file_path=os.path.abspath(\"data.txt\")\n",
    "print(\"file_path--\",file_path)"
   ]
  },
  {
   "cell_type": "code",
   "execution_count": 5,
   "id": "7952c322-e8a9-4426-9e64-83ace4883631",
   "metadata": {},
   "outputs": [
    {
     "name": "stdout",
     "output_type": "stream",
     "text": [
      "file content:\n",
      "\n",
      "Name,age,city\n",
      "Alice,28,New york\n",
      "Bob,38,Delhi\n",
      "\n"
     ]
    }
   ],
   "source": [
    "file=open(\"data.txt\",\"r\")\n",
    "content=file.read()\n",
    "file.close()\n",
    "print(\"file content:\\n\")\n",
    "print(content)"
   ]
  },
  {
   "cell_type": "code",
   "execution_count": 7,
   "id": "2c03fad0-3934-42a2-9ccf-f3359d26780e",
   "metadata": {},
   "outputs": [
    {
     "name": "stdout",
     "output_type": "stream",
     "text": [
      "reading line by line\n",
      "Name,age,city\n",
      "Alice,28,New york\n",
      "Bob,38,Delhi\n"
     ]
    }
   ],
   "source": [
    "file=open(\"data.txt\",\"r\")\n",
    "print(\"reading line by line\")\n",
    "for line in file:\n",
    "    print(line.strip())\n",
    "file.close()"
   ]
  },
  {
   "cell_type": "code",
   "execution_count": 8,
   "id": "0512b19f-687a-47af-b347-d4d5593dd9e2",
   "metadata": {},
   "outputs": [
    {
     "name": "stdout",
     "output_type": "stream",
     "text": [
      "new data appended\n"
     ]
    }
   ],
   "source": [
    "file=open(\"data.txt\",\"a\")\n",
    "file.write(\"charlie,25,london\\n\")\n",
    "file.close()\n",
    "print(\"new data appended\")"
   ]
  },
  {
   "cell_type": "code",
   "execution_count": 10,
   "id": "f1770089-f6fb-4bd9-9928-e6ed456e16e8",
   "metadata": {},
   "outputs": [
    {
     "name": "stdout",
     "output_type": "stream",
     "text": [
      "using 'with' to read\n",
      "Name,age,city\n",
      "Alice,28,New york\n",
      "Bob,38,Delhi\n",
      "charlie,25,london\n",
      "\n"
     ]
    }
   ],
   "source": [
    "with open(\"data.txt\",\"r\") as file:\n",
    "    print(\"using 'with' to read\")\n",
    "    print(file.read())"
   ]
  },
  {
   "cell_type": "code",
   "execution_count": 2,
   "id": "a658d56b-58a2-4aad-881a-e13659d769c7",
   "metadata": {},
   "outputs": [
    {
     "name": "stdout",
     "output_type": "stream",
     "text": [
      "Requirement already satisfied: qrcode in c:\\users\\tiwar\\anaconda3\\lib\\site-packages (8.2)\n",
      "Requirement already satisfied: colorama in c:\\users\\tiwar\\appdata\\roaming\\python\\python313\\site-packages (from qrcode) (0.4.6)\n"
     ]
    }
   ],
   "source": [
    "!pip install qrcode\n"
   ]
  },
  {
   "cell_type": "code",
   "execution_count": 3,
   "id": "11c92654-fd55-4c58-887c-da7c40865a9f",
   "metadata": {},
   "outputs": [],
   "source": [
    "import qrcode"
   ]
  },
  {
   "cell_type": "code",
   "execution_count": 5,
   "id": "3311bf88-d89d-40ce-b056-18b3e3a2f921",
   "metadata": {},
   "outputs": [
    {
     "name": "stdin",
     "output_type": "stream",
     "text": [
      "raven artemis oki\n"
     ]
    },
    {
     "name": "stdout",
     "output_type": "stream",
     "text": [
      "C:\\Users\\tiwar\\piku.png\n"
     ]
    }
   ],
   "source": [
    "data= input(\"raven artemis\")\n",
    "qr=qrcode.make(data)\n",
    "filename=\"piku.png\"\n",
    "qr.save(filename)\n",
    "import os\n",
    "fullpath=os.path.abspath(filename)\n",
    "print(fullpath)"
   ]
  },
  {
   "cell_type": "code",
   "execution_count": 10,
   "id": "4720cbfc-5987-4ac3-84a8-dc353e52fd77",
   "metadata": {},
   "outputs": [
    {
     "name": "stdout",
     "output_type": "stream",
     "text": [
      "this is deposit method\n",
      "this is deposit function\n"
     ]
    }
   ],
   "source": [
    "def deposit():\n",
    "    print(\"this is deposit method\")\n",
    "\n",
    "class account:\n",
    "    def deposit(self):  # Added 'self' parameter to accept the instance reference\n",
    "        print(\"this is deposit function\")\n",
    "\n",
    "deposit()  # This calls the standalone function\n",
    "a = account()\n",
    "a.deposit()  # This calls the method of the account class\n"
   ]
  },
  {
   "cell_type": "code",
   "execution_count": 9,
   "id": "4a17a753-b170-4a3e-9d56-0ab9758f87a3",
   "metadata": {},
   "outputs": [
    {
     "name": "stdout",
     "output_type": "stream",
     "text": [
      "this is deposit & this is deposit method\n",
      "this is deposit & this is deposit method\n"
     ]
    }
   ],
   "source": [
    "class account:\n",
    "    def deposit(x):\n",
    "        print(\"this is deposit & this is deposit method\")\n",
    "a=account()\n",
    "a.deposit()\n",
    "\n",
    "a2=account()\n",
    "a2.deposit()\n"
   ]
  },
  {
   "cell_type": "code",
   "execution_count": null,
   "id": "f022d06b-5f62-4998-b11e-f2e4d819dc4d",
   "metadata": {},
   "outputs": [],
   "source": []
  }
 ],
 "metadata": {
  "kernelspec": {
   "display_name": "Python [conda env:base] *",
   "language": "python",
   "name": "conda-base-py"
  },
  "language_info": {
   "codemirror_mode": {
    "name": "ipython",
    "version": 3
   },
   "file_extension": ".py",
   "mimetype": "text/x-python",
   "name": "python",
   "nbconvert_exporter": "python",
   "pygments_lexer": "ipython3",
   "version": "3.13.5"
  }
 },
 "nbformat": 4,
 "nbformat_minor": 5
}
