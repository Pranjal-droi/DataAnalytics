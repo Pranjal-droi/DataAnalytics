{
 "cells": [
  {
   "cell_type": "code",
   "execution_count": 20,
   "id": "0cd88e39-b9df-4faa-9a5b-8adff873a0dc",
   "metadata": {},
   "outputs": [
    {
     "name": "stdout",
     "output_type": "stream",
     "text": [
      "Welcome To Today's Class\n"
     ]
    }
   ],
   "source": [
    "print(\"Welcome To Today's Class\")"
   ]
  },
  {
   "cell_type": "code",
   "execution_count": 57,
   "id": "37e13729-23bf-483c-a316-38d04a3fe9e6",
   "metadata": {},
   "outputs": [
    {
     "name": "stdout",
     "output_type": "stream",
     "text": [
      "positive\n"
     ]
    }
   ],
   "source": [
    "#conditional statement\n",
    "x=5\n",
    "if x>0:\n",
    "       print(\"positive\")"
   ]
  },
  {
   "cell_type": "code",
   "execution_count": 58,
   "id": "92b00694-1c3c-422b-962f-8cf8d1366ca1",
   "metadata": {},
   "outputs": [
    {
     "name": "stdout",
     "output_type": "stream",
     "text": [
      "enter number: 12\n"
     ]
    },
    {
     "ename": "TypeError",
     "evalue": "not all arguments converted during string formatting",
     "output_type": "error",
     "traceback": [
      "\u001b[31m---------------------------------------------------------------------------\u001b[39m",
      "\u001b[31mTypeError\u001b[39m                                 Traceback (most recent call last)",
      "\u001b[36mCell\u001b[39m\u001b[36m \u001b[39m\u001b[32mIn[58]\u001b[39m\u001b[32m, line 3\u001b[39m\n\u001b[32m      1\u001b[39m \u001b[38;5;66;03m#check a no is even or odd?\u001b[39;00m\n\u001b[32m      2\u001b[39m num=\u001b[38;5;28minput\u001b[39m(\u001b[33m\"\u001b[39m\u001b[33menter number:\u001b[39m\u001b[33m\"\u001b[39m)\n\u001b[32m----> \u001b[39m\u001b[32m3\u001b[39m \u001b[38;5;28;01mif\u001b[39;00m \u001b[43mnum\u001b[49m\u001b[43m%\u001b[49m\u001b[32;43m2\u001b[39;49m==\u001b[32m0\u001b[39m:\n\u001b[32m      4\u001b[39m     \u001b[38;5;28mprint\u001b[39m(\u001b[33m\"\u001b[39m\u001b[33meven\u001b[39m\u001b[33m\"\u001b[39m)\n\u001b[32m      5\u001b[39m \u001b[38;5;28;01melse\u001b[39;00m:\n",
      "\u001b[31mTypeError\u001b[39m: not all arguments converted during string formatting"
     ]
    }
   ],
   "source": [
    "#check a no is even or odd?\n",
    "num=input(\"enter number:\")\n",
    "if num%2==0:\n",
    "    print(\"even\")\n",
    "else:\n",
    "    print(\"odd\")"
   ]
  },
  {
   "cell_type": "code",
   "execution_count": 59,
   "id": "8a2bcc99-6ffd-497c-ac8e-f48756e81764",
   "metadata": {},
   "outputs": [
    {
     "name": "stdout",
     "output_type": "stream",
     "text": [
      "enter number: 13\n"
     ]
    },
    {
     "name": "stdout",
     "output_type": "stream",
     "text": [
      "<class 'str'>\n"
     ]
    }
   ],
   "source": [
    "num=input(\"enter number:\")\n",
    "print(type(num))"
   ]
  },
  {
   "cell_type": "code",
   "execution_count": 62,
   "id": "6cb871b9-96a7-41d6-b3df-1cd1c3fa921c",
   "metadata": {},
   "outputs": [
    {
     "name": "stdout",
     "output_type": "stream",
     "text": [
      "<class 'str'>\n"
     ]
    }
   ],
   "source": [
    "a=\"45\"\n",
    "print(type(a))\n"
   ]
  },
  {
   "cell_type": "code",
   "execution_count": 63,
   "id": "1b0eed44-043f-435f-a4f4-fbc0dd42ff19",
   "metadata": {},
   "outputs": [
    {
     "name": "stdout",
     "output_type": "stream",
     "text": [
      "4545\n"
     ]
    }
   ],
   "source": [
    "print(a*2)\n"
   ]
  },
  {
   "cell_type": "code",
   "execution_count": 64,
   "id": "7c887a26-75d0-46d8-be5f-e13e2dfed389",
   "metadata": {},
   "outputs": [
    {
     "name": "stdout",
     "output_type": "stream",
     "text": [
      "45\n",
      "<class 'int'>\n"
     ]
    }
   ],
   "source": [
    "a=int(a)\n",
    "print(a)\n",
    "print(type(a))"
   ]
  },
  {
   "cell_type": "code",
   "execution_count": 66,
   "id": "10580b67-1b23-4268-b158-70dee0b22b2c",
   "metadata": {},
   "outputs": [
    {
     "name": "stdout",
     "output_type": "stream",
     "text": [
      "enter value 67\n"
     ]
    },
    {
     "name": "stdout",
     "output_type": "stream",
     "text": [
      "<class 'str'>\n"
     ]
    }
   ],
   "source": [
    "a=input(\"enter value\")\n",
    "print(type(a))"
   ]
  },
  {
   "cell_type": "code",
   "execution_count": 68,
   "id": "451c069b-0535-4a19-b71e-2cc0923328de",
   "metadata": {},
   "outputs": [
    {
     "name": "stdout",
     "output_type": "stream",
     "text": [
      "enter a number 10\n",
      "enter a number 3\n"
     ]
    },
    {
     "name": "stdout",
     "output_type": "stream",
     "text": [
      "30\n"
     ]
    }
   ],
   "source": [
    "num1=int(input(\"enter a number\"))\n",
    "num2=int(input(\"enter a number\"))\n",
    "print(num1*num2)"
   ]
  },
  {
   "cell_type": "code",
   "execution_count": 69,
   "id": "65957629-9ab7-4028-a279-b9a8291ffa47",
   "metadata": {},
   "outputs": [
    {
     "name": "stdout",
     "output_type": "stream",
     "text": [
      "enter a number 5\n",
      "enter a number 10\n"
     ]
    },
    {
     "name": "stdout",
     "output_type": "stream",
     "text": [
      "15\n"
     ]
    }
   ],
   "source": [
    "num1=int(input(\"enter a number\"))\n",
    "num2=int(input(\"enter a number\"))\n",
    "print(num1+num2)"
   ]
  },
  {
   "cell_type": "code",
   "execution_count": 70,
   "id": "3d4db2e4-f6fc-48b4-bde2-0175ea1b8417",
   "metadata": {},
   "outputs": [
    {
     "name": "stdout",
     "output_type": "stream",
     "text": [
      "enter a number 10\n",
      "enter a number 5\n"
     ]
    },
    {
     "name": "stdout",
     "output_type": "stream",
     "text": [
      "5\n"
     ]
    }
   ],
   "source": [
    "num1=int(input(\"enter a number\"))\n",
    "num2=int(input(\"enter a number\"))\n",
    "print(num1-num2)"
   ]
  },
  {
   "cell_type": "code",
   "execution_count": 71,
   "id": "a850c6e6-ad7e-4314-8a09-faa700acdf63",
   "metadata": {},
   "outputs": [
    {
     "name": "stdout",
     "output_type": "stream",
     "text": [
      "enter a number 5\n",
      "enter a number 10\n"
     ]
    },
    {
     "name": "stdout",
     "output_type": "stream",
     "text": [
      "0.5\n"
     ]
    }
   ],
   "source": [
    "num1=int(input(\"enter a number\"))\n",
    "num2=int(input(\"enter a number\"))\n",
    "print(num1/num2)"
   ]
  },
  {
   "cell_type": "code",
   "execution_count": 72,
   "id": "46ddf047-19af-4550-8738-4bc6aab07c8e",
   "metadata": {},
   "outputs": [
    {
     "name": "stdout",
     "output_type": "stream",
     "text": [
      "enter a number 10\n",
      "enter a number 5\n"
     ]
    },
    {
     "name": "stdout",
     "output_type": "stream",
     "text": [
      "2\n"
     ]
    }
   ],
   "source": [
    "num1=int(input(\"enter a number\"))\n",
    "num2=int(input(\"enter a number\"))\n",
    "print(num1//num2)"
   ]
  },
  {
   "cell_type": "code",
   "execution_count": 73,
   "id": "c781561c-cbc8-4a78-a38f-63bc1f439ddf",
   "metadata": {},
   "outputs": [
    {
     "name": "stdout",
     "output_type": "stream",
     "text": [
      "enter a number 10\n",
      "enter a number 5\n"
     ]
    },
    {
     "name": "stdout",
     "output_type": "stream",
     "text": [
      "0\n"
     ]
    }
   ],
   "source": [
    "num1=int(input(\"enter a number\"))\n",
    "num2=int(input(\"enter a number\"))\n",
    "print(num1%num2)"
   ]
  },
  {
   "cell_type": "code",
   "execution_count": 75,
   "id": "875f2f68-ade6-443d-b0ea-978574e261ff",
   "metadata": {},
   "outputs": [
    {
     "name": "stdout",
     "output_type": "stream",
     "text": [
      "enter a number 9\n",
      "enter a number 7\n"
     ]
    },
    {
     "name": "stdout",
     "output_type": "stream",
     "text": [
      "True\n"
     ]
    }
   ],
   "source": [
    "num1=int(input(\"enter a number\"))\n",
    "num2=int(input(\"enter a number\"))\n",
    "print(num1<10 and num2>5)"
   ]
  },
  {
   "cell_type": "code",
   "execution_count": 76,
   "id": "b6def795-f023-4c63-b294-f23b5d8b7310",
   "metadata": {},
   "outputs": [
    {
     "name": "stdout",
     "output_type": "stream",
     "text": [
      "enter a number 9\n",
      "enter a number 7\n"
     ]
    },
    {
     "name": "stdout",
     "output_type": "stream",
     "text": [
      "True\n"
     ]
    }
   ],
   "source": [
    "num1=int(input(\"enter a number\"))\n",
    "num2=int(input(\"enter a number\"))\n",
    "print(num1<10 or num2>5)"
   ]
  },
  {
   "cell_type": "code",
   "execution_count": 77,
   "id": "17607185-dc8b-4661-87d5-a5746940cb1b",
   "metadata": {},
   "outputs": [
    {
     "name": "stdout",
     "output_type": "stream",
     "text": [
      "enter a number 5\n",
      "enter a number 10\n"
     ]
    },
    {
     "name": "stdout",
     "output_type": "stream",
     "text": [
      "15\n"
     ]
    }
   ],
   "source": [
    "num1=int(input(\"enter a number\"))\n",
    "num2=int(input(\"enter a number\"))\n",
    "print(num1^num2)"
   ]
  },
  {
   "cell_type": "code",
   "execution_count": 82,
   "id": "8ac31d4f-8261-4471-9299-90a6a9d2f00d",
   "metadata": {},
   "outputs": [
    {
     "name": "stdout",
     "output_type": "stream",
     "text": [
      "0b101\n",
      "0b1010\n"
     ]
    }
   ],
   "source": [
    "print(bin(num1))\n",
    "print(bin(num2))\n"
   ]
  },
  {
   "cell_type": "code",
   "execution_count": 81,
   "id": "253730c7-2f15-4cac-b9ec-d73082a9a207",
   "metadata": {},
   "outputs": [
    {
     "name": "stdout",
     "output_type": "stream",
     "text": [
      "0b1111\n"
     ]
    }
   ],
   "source": [
    "print(bin(num1 ^ num2))"
   ]
  },
  {
   "cell_type": "code",
   "execution_count": 83,
   "id": "ec2e8948-f982-4515-86bc-700b3f21a6bf",
   "metadata": {},
   "outputs": [
    {
     "name": "stdout",
     "output_type": "stream",
     "text": [
      "enter a number 2\n",
      "enter a number 3\n"
     ]
    },
    {
     "name": "stdout",
     "output_type": "stream",
     "text": [
      "6\n"
     ]
    }
   ],
   "source": [
    "num1=int(input(\"enter a number\"))\n",
    "num2=int(input(\"enter a number\"))\n",
    "print(num1*num2)\n",
    "multiply=(num1*num2)\n"
   ]
  },
  {
   "cell_type": "code",
   "execution_count": 86,
   "id": "059090ca-2f96-4253-9d54-e4fcff75b349",
   "metadata": {},
   "outputs": [
    {
     "name": "stdout",
     "output_type": "stream",
     "text": [
      "Multiply of 67 and 7 is6\n"
     ]
    }
   ],
   "source": [
    "print(f\"Multiply of {a} and {b} is{multiply}\")\n"
   ]
  },
  {
   "cell_type": "code",
   "execution_count": 88,
   "id": "37ac95ad-c8aa-4500-b44a-9a9bf5f5ce47",
   "metadata": {},
   "outputs": [
    {
     "name": "stdout",
     "output_type": "stream",
     "text": [
      "multiply is 6\n"
     ]
    }
   ],
   "source": [
    "print(\"multiply is\", multiply)"
   ]
  },
  {
   "cell_type": "code",
   "execution_count": 91,
   "id": "16d3985a-35d9-410f-bf38-a79ffea7f201",
   "metadata": {},
   "outputs": [
    {
     "name": "stdout",
     "output_type": "stream",
     "text": [
      "enter number:  -9\n"
     ]
    },
    {
     "name": "stdout",
     "output_type": "stream",
     "text": [
      "negative\n"
     ]
    }
   ],
   "source": [
    "num=float(input(\"enter number: \"))\n",
    "if num>0:\n",
    "    print(\"positive\")\n",
    "else:\n",
    "    print(\"negative\")"
   ]
  },
  {
   "cell_type": "code",
   "execution_count": 93,
   "id": "1e103063-b85c-434b-85da-587abf6a2c48",
   "metadata": {},
   "outputs": [
    {
     "name": "stdout",
     "output_type": "stream",
     "text": [
      "enter value 136\n"
     ]
    },
    {
     "name": "stdout",
     "output_type": "stream",
     "text": [
      "even\n"
     ]
    }
   ],
   "source": [
    "num=int(input(\"enter value\"))\n",
    "if num%2==0 :\n",
    "    print(\"even\")\n",
    "else :\n",
    "    print(\"odd\")\n",
    "    "
   ]
  },
  {
   "cell_type": "code",
   "execution_count": 98,
   "id": "df1f15f5-bf87-4e28-90b9-0194c095010c",
   "metadata": {},
   "outputs": [
    {
     "name": "stdout",
     "output_type": "stream",
     "text": [
      "ennter value -2\n"
     ]
    },
    {
     "name": "stdout",
     "output_type": "stream",
     "text": [
      "negative\n"
     ]
    }
   ],
   "source": [
    "num=int(input(\"ennter value\"))\n",
    "if num>0 :\n",
    "    print(\"positive\")\n",
    "    if num%2==0 :\n",
    "        print(\"even\")\n",
    "    else :\n",
    "        print(\"odd\")\n",
    "else:\n",
    "    print(\"negative\")"
   ]
  },
  {
   "cell_type": "code",
   "execution_count": 103,
   "id": "5029109f-5d14-41e4-aba8-207bc7d15e0c",
   "metadata": {},
   "outputs": [
    {
     "name": "stdout",
     "output_type": "stream",
     "text": [
      "enter username abc\n",
      "enter password 1234\n"
     ]
    },
    {
     "name": "stdout",
     "output_type": "stream",
     "text": [
      "login\n"
     ]
    }
   ],
   "source": [
    "user= input(\"enter username\")\n",
    "password= input(\"enter password\")\n",
    "if user == \"abc\" and password == \"1234\":\n",
    "                            print(\"login\")\n",
    "else:\n",
    "    print(\"invalid\")\n",
    "                  \n"
   ]
  },
  {
   "cell_type": "code",
   "execution_count": 105,
   "id": "193b7091-4776-418b-b276-b86908ab4226",
   "metadata": {},
   "outputs": [
    {
     "name": "stdout",
     "output_type": "stream",
     "text": [
      " oki doki \n",
      " boki\n"
     ]
    }
   ],
   "source": [
    "print(\" oki doki \\n boki\")"
   ]
  },
  {
   "cell_type": "code",
   "execution_count": 1,
   "id": "25186f6f-6493-43ad-935e-cdbc3088dd2f",
   "metadata": {},
   "outputs": [],
   "source": [
    "user = \"admin\"\n",
    "password = 123"
   ]
  },
  {
   "cell_type": "code",
   "execution_count": 3,
   "id": "0539df75-3945-4f74-b945-2dcd02b4a38a",
   "metadata": {},
   "outputs": [
    {
     "name": "stdout",
     "output_type": "stream",
     "text": [
      "enter the marks 50\n"
     ]
    },
    {
     "name": "stdout",
     "output_type": "stream",
     "text": [
      "C\n"
     ]
    }
   ],
   "source": [
    "#grading system\n",
    "marks=int(input(\"enter the marks\"))\n",
    "if marks>75 :\n",
    "    print(\"A\")\n",
    "elif marks>=60 and marks<=75:\n",
    "    print(\"B\")\n",
    "elif marks<60 and marks>=45:\n",
    "    print(\"C\")\n",
    "elif marks<45 and marks>=30:\n",
    "    print(\"D\")\n",
    "else:\n",
    "  print(\"FAIL\")"
   ]
  },
  {
   "cell_type": "code",
   "execution_count": 4,
   "id": "d5ab6d37-5c17-4e24-bf17-f125bd5eee3d",
   "metadata": {},
   "outputs": [
    {
     "name": "stdout",
     "output_type": "stream",
     "text": [
      "5\n",
      "10\n",
      "15\n",
      "20\n",
      "25\n",
      "35\n",
      "40\n",
      "45\n",
      "50\n"
     ]
    }
   ],
   "source": [
    "num=5\n",
    "print(num*1)\n",
    "print(num*2)\n",
    "print(num*3)\n",
    "print(num*4)\n",
    "print(num*5)\n",
    "print(num*7)\n",
    "print(num*8)\n",
    "print(num*9)\n",
    "print(num*10)\n"
   ]
  },
  {
   "cell_type": "code",
   "execution_count": 5,
   "id": "e0ad9994-cdc4-4be8-8f1f-a19a0a8ec42c",
   "metadata": {},
   "outputs": [
    {
     "name": "stdout",
     "output_type": "stream",
     "text": [
      "0\n",
      "1\n",
      "2\n",
      "3\n",
      "4\n",
      "5\n",
      "6\n",
      "7\n",
      "8\n",
      "9\n"
     ]
    }
   ],
   "source": [
    "for i in range(10):\n",
    "    print(i)"
   ]
  },
  {
   "cell_type": "code",
   "execution_count": 10,
   "id": "06991439-5c38-4d5f-9891-8a9bdf8a56ea",
   "metadata": {},
   "outputs": [
    {
     "name": "stdout",
     "output_type": "stream",
     "text": [
      "55\n"
     ]
    }
   ],
   "source": [
    "sum = 0\n",
    "for i in range(1,11):\n",
    "    sum+=i\n",
    "print(sum)"
   ]
  },
  {
   "cell_type": "code",
   "execution_count": 15,
   "id": "3aa94457-7a42-4284-92cb-6bfca2ce8a56",
   "metadata": {},
   "outputs": [
    {
     "name": "stdout",
     "output_type": "stream",
     "text": [
      "enter salary 20000\n"
     ]
    },
    {
     "name": "stdout",
     "output_type": "stream",
     "text": [
      "no deduction\n"
     ]
    }
   ],
   "source": [
    "sal=int(input(\"enter salary\"))\n",
    "if sal>75000:\n",
    "    sal= sal - (sal*0.10)\n",
    "    print(\"your salary is\" ,sal)\n",
    "elif sal>55000 and sal<75000:\n",
    "    sal= sal - (sal*0.07)  \n",
    "    print(\"your salary is\" ,sal)\n",
    "elif sal>35000 and sal<50000:\n",
    "    sal= sal - (sal*0.05)\n",
    "    print(\"your salary is\" ,sal)\n",
    "else:\n",
    " print(\"no deduction\")\n",
    "    "
   ]
  },
  {
   "cell_type": "code",
   "execution_count": 1,
   "id": "fa798e3b-ea3f-4bf1-a026-ddebf45c0b7c",
   "metadata": {},
   "outputs": [
    {
     "name": "stdout",
     "output_type": "stream",
     "text": [
      "10\n",
      "9\n",
      "8\n",
      "7\n",
      "6\n",
      "5\n",
      "4\n",
      "3\n",
      "2\n",
      "1\n"
     ]
    }
   ],
   "source": [
    "for i in range(10,0,-1):\n",
    "    print(i)"
   ]
  },
  {
   "cell_type": "code",
   "execution_count": 4,
   "id": "bcfd23cd-d599-4819-9a89-c6c479a918d4",
   "metadata": {},
   "outputs": [
    {
     "name": "stdout",
     "output_type": "stream",
     "text": [
      "1\n",
      "3\n",
      "5\n",
      "7\n",
      "9\n"
     ]
    }
   ],
   "source": [
    "for i in range(1,11,2):\n",
    "    print(i)"
   ]
  },
  {
   "cell_type": "code",
   "execution_count": 7,
   "id": "0b1a0b53-ae23-4e7d-8a0b-893cd53dbdc6",
   "metadata": {},
   "outputs": [
    {
     "name": "stdout",
     "output_type": "stream",
     "text": [
      "enter a number 78\n"
     ]
    },
    {
     "name": "stdout",
     "output_type": "stream",
     "text": [
      "78\n",
      "156\n",
      "234\n",
      "312\n",
      "390\n",
      "468\n",
      "546\n",
      "624\n",
      "702\n",
      "780\n"
     ]
    }
   ],
   "source": [
    "a = int(input(\"enter a number\"))\n",
    "start = 1\n",
    "while start <=10:\n",
    "              print(a*start)\n",
    "              start+=1"
   ]
  },
  {
   "cell_type": "code",
   "execution_count": 8,
   "id": "21db9923-5bd0-46e6-816e-f49b2771e308",
   "metadata": {},
   "outputs": [
    {
     "name": "stdout",
     "output_type": "stream",
     "text": [
      "enter the number 56\n"
     ]
    },
    {
     "name": "stdout",
     "output_type": "stream",
     "text": [
      "56 * 1 = 56\n",
      "56 * 2 = 112\n",
      "56 * 3 = 168\n",
      "56 * 4 = 224\n",
      "56 * 5 = 280\n",
      "56 * 6 = 336\n",
      "56 * 7 = 392\n",
      "56 * 8 = 448\n",
      "56 * 9 = 504\n",
      "56 * 10 = 560\n"
     ]
    }
   ],
   "source": [
    "a=int(input(\"enter the number\"))\n",
    "for i in range(1,11):\n",
    "    print(f\"{a} * {i} = {a*i}\")"
   ]
  },
  {
   "cell_type": "code",
   "execution_count": 9,
   "id": "099d307b-92e8-4492-b5da-d6395bc25190",
   "metadata": {},
   "outputs": [
    {
     "name": "stdout",
     "output_type": "stream",
     "text": [
      "0\n",
      "2\n",
      "4\n",
      "6\n",
      "8\n",
      "10\n",
      "12\n",
      "14\n",
      "16\n",
      "18\n",
      "20\n",
      "22\n",
      "24\n",
      "26\n",
      "28\n",
      "30\n",
      "32\n",
      "34\n",
      "36\n",
      "38\n",
      "40\n",
      "42\n",
      "44\n",
      "46\n",
      "48\n",
      "50\n",
      "52\n",
      "54\n",
      "56\n",
      "58\n",
      "60\n",
      "62\n",
      "64\n",
      "66\n",
      "68\n",
      "70\n",
      "72\n",
      "74\n",
      "76\n",
      "78\n",
      "80\n",
      "82\n",
      "84\n",
      "86\n",
      "88\n",
      "90\n",
      "92\n",
      "94\n",
      "96\n",
      "98\n",
      "100\n"
     ]
    }
   ],
   "source": [
    "for i in range (0,101,2):\n",
    "    print(i)"
   ]
  },
  {
   "cell_type": "code",
   "execution_count": 11,
   "id": "d784c343-5acd-43fb-8006-65c973a0c153",
   "metadata": {},
   "outputs": [
    {
     "name": "stdout",
     "output_type": "stream",
     "text": [
      "3\n"
     ]
    }
   ],
   "source": [
    "print(10//3)"
   ]
  },
  {
   "cell_type": "code",
   "execution_count": 18,
   "id": "b190152c-6482-4d12-870a-683c5db8117f",
   "metadata": {},
   "outputs": [
    {
     "ename": "IndentationError",
     "evalue": "unexpected indent (293202574.py, line 4)",
     "output_type": "error",
     "traceback": [
      "  \u001b[36mCell\u001b[39m\u001b[36m \u001b[39m\u001b[32mIn[18]\u001b[39m\u001b[32m, line 4\u001b[39m\n\u001b[31m    \u001b[39m\u001b[31mprint(i)\u001b[39m\n    ^\n\u001b[31mIndentationError\u001b[39m\u001b[31m:\u001b[39m unexpected indent\n"
     ]
    }
   ],
   "source": [
    "for i in range(3):\n",
    "  if i==1:\n",
    "      continue\n",
    "         print(i)"
   ]
  },
  {
   "cell_type": "code",
   "execution_count": 13,
   "id": "6321e626-c1d4-43cc-abbb-d0a3df41c0e4",
   "metadata": {},
   "outputs": [
    {
     "name": "stdout",
     "output_type": "stream",
     "text": [
      "go\n"
     ]
    }
   ],
   "source": [
    "if 1:\n",
    "    print(\"go\")"
   ]
  },
  {
   "cell_type": "code",
   "execution_count": 22,
   "id": "ba83645e-6877-4c8a-9b95-6c6e9625d316",
   "metadata": {},
   "outputs": [
    {
     "name": "stdout",
     "output_type": "stream",
     "text": [
      "False\n"
     ]
    }
   ],
   "source": [
    "print (True and False)\n",
    "    "
   ]
  },
  {
   "cell_type": "code",
   "execution_count": 2,
   "id": "2cffe540-8e3e-4506-b483-e23922187a66",
   "metadata": {},
   "outputs": [
    {
     "name": "stdout",
     "output_type": "stream",
     "text": [
      "0\n",
      "1\n",
      "2\n",
      "3\n",
      "4\n",
      "6\n",
      "7\n",
      "8\n",
      "9\n"
     ]
    }
   ],
   "source": [
    "for i in range(10):\n",
    "    if i==5:\n",
    "       continue\n",
    "    print(i)"
   ]
  },
  {
   "cell_type": "code",
   "execution_count": 5,
   "id": "be8e4ba4-a446-451e-ab6d-e829266a85a4",
   "metadata": {},
   "outputs": [
    {
     "name": "stdout",
     "output_type": "stream",
     "text": [
      "enter no. 5\n"
     ]
    },
    {
     "name": "stdout",
     "output_type": "stream",
     "text": [
      "5 is not divisible by 3 and 7\n"
     ]
    }
   ],
   "source": [
    "a=int(input(\"enter no.\"))\n",
    "if a%3==0 and a%7==0:\n",
    "      print(a,\"is divisible by 3 and 7\")\n",
    "else:\n",
    "      print(a,\"is not divisible by 3 and 7\")"
   ]
  },
  {
   "cell_type": "code",
   "execution_count": 8,
   "id": "14335a47-f407-4b02-917f-1ca16c3e9032",
   "metadata": {},
   "outputs": [
    {
     "name": "stdout",
     "output_type": "stream",
     "text": [
      "2\n",
      "4\n",
      "6\n",
      "8\n",
      "10\n",
      "12\n",
      "14\n",
      "16\n",
      "18\n",
      "20\n",
      "22\n",
      "24\n",
      "26\n",
      "28\n",
      "30\n",
      "32\n",
      "34\n",
      "36\n",
      "38\n",
      "40\n",
      "42\n",
      "44\n",
      "46\n",
      "48\n",
      "50\n",
      "52\n",
      "54\n",
      "56\n",
      "58\n",
      "60\n",
      "62\n",
      "64\n",
      "66\n",
      "68\n",
      "70\n",
      "72\n",
      "74\n",
      "76\n",
      "78\n",
      "80\n",
      "82\n",
      "84\n",
      "86\n",
      "88\n",
      "90\n",
      "92\n",
      "94\n",
      "96\n",
      "98\n"
     ]
    }
   ],
   "source": [
    "for i in range(2,100,2):\n",
    "    print(i)"
   ]
  },
  {
   "cell_type": "code",
   "execution_count": 11,
   "id": "b76d9f23-d4cf-43ce-8917-32ed1de5350c",
   "metadata": {},
   "outputs": [
    {
     "name": "stdout",
     "output_type": "stream",
     "text": [
      "enter a number 56\n",
      "enter a number 67\n",
      "enter a number 78\n"
     ]
    },
    {
     "name": "stdout",
     "output_type": "stream",
     "text": [
      "The greatest number is: 78\n"
     ]
    }
   ],
   "source": [
    "a=int(input(\"enter a number\"))\n",
    "b=int(input(\"enter a number\"))\n",
    "c=int(input(\"enter a number\"))\n",
    "if a > b:\n",
    "    if a > c:\n",
    "        print(\"The greatest number is:\", a)\n",
    "    else:\n",
    "        print(\"The greatest number is:\", c)\n",
    "else:\n",
    "    if b > c:\n",
    "        print(\"The greatest number is:\", b)\n",
    "    else:\n",
    "        print(\"The greatest number is:\", c)\n",
    "       "
   ]
  },
  {
   "cell_type": "code",
   "execution_count": 12,
   "id": "08e7cd7a-7b73-4010-8f7b-4c757a50ed05",
   "metadata": {},
   "outputs": [
    {
     "name": "stdout",
     "output_type": "stream",
     "text": [
      "50\n",
      "49\n",
      "48\n",
      "47\n",
      "46\n",
      "45\n",
      "44\n",
      "43\n",
      "42\n",
      "41\n",
      "40\n",
      "39\n",
      "38\n",
      "37\n",
      "36\n",
      "35\n",
      "34\n",
      "33\n",
      "32\n",
      "31\n",
      "30\n",
      "29\n",
      "28\n",
      "27\n",
      "26\n",
      "25\n",
      "24\n",
      "23\n",
      "22\n",
      "21\n",
      "20\n",
      "19\n",
      "18\n",
      "17\n",
      "16\n",
      "15\n",
      "14\n",
      "13\n",
      "12\n",
      "11\n",
      "10\n",
      "9\n",
      "8\n",
      "7\n",
      "6\n",
      "5\n",
      "4\n",
      "3\n",
      "2\n",
      "1\n"
     ]
    }
   ],
   "source": [
    "a = 50\n",
    "while a >= 1:\n",
    "    print(a)\n",
    "    a -= 1"
   ]
  },
  {
   "cell_type": "code",
   "execution_count": 18,
   "id": "4f3f2789-fa71-4707-8e61-d94cfca3fb22",
   "metadata": {},
   "outputs": [
    {
     "name": "stdout",
     "output_type": "stream",
     "text": [
      "enter a number 87\n"
     ]
    },
    {
     "name": "stdout",
     "output_type": "stream",
     "text": [
      "87 x 1 = 87\n",
      "87 x 2 = 174\n",
      "87 x 3 = 261\n",
      "87 x 4 = 348\n",
      "87 x 5 = 435\n",
      "87 x 6 = 522\n",
      "87 x 7 = 609\n",
      "87 x 8 = 696\n",
      "87 x 9 = 783\n",
      "87 x 10 = 870\n"
     ]
    }
   ],
   "source": [
    "X= int(input(\"enter a number\"))\n",
    "for i in range(1,11):\n",
    "     print(X, \"x\" ,i, \"=\", X*i)"
   ]
  },
  {
   "cell_type": "code",
   "execution_count": 21,
   "id": "06064281-ce3f-4084-85a6-033ef6add0ba",
   "metadata": {},
   "outputs": [
    {
     "name": "stdout",
     "output_type": "stream",
     "text": [
      "Total numbers divisible by 5 between 1 and 100: 20\n"
     ]
    }
   ],
   "source": [
    "count = 0\n",
    "for z in range(1, 101):\n",
    "    if z % 5 == 0:\n",
    "        count += 1\n",
    "print(\"Total numbers divisible by 5 between 1 and 100:\", count)\n"
   ]
  },
  {
   "cell_type": "code",
   "execution_count": null,
   "id": "68d92eaa-008e-4d50-81a7-9c5b4ef5f82c",
   "metadata": {},
   "outputs": [],
   "source": [
    "year = int(input(\"Enter a year: \"))\n",
    "\n",
    "if (year % 4 == 0 and year % 100 != 0) or (year % 400 == 0):\n",
    "    print(year, \"is a leap year.\")\n",
    "else:\n",
    "    print(year, \"is not a leap year.\")\n"
   ]
  },
  {
   "cell_type": "code",
   "execution_count": 1,
   "id": "77006302-d98d-426a-9aeb-0724765cdbf7",
   "metadata": {},
   "outputs": [
    {
     "name": "stdout",
     "output_type": "stream",
     "text": [
      "addition of 14 & 10 =24\n"
     ]
    }
   ],
   "source": [
    "n1=14\n",
    "n2=10\n",
    "def add():\n",
    "    print(f\"addition of {n1} & {n2} ={n1+n2}\")\n",
    "add()"
   ]
  },
  {
   "cell_type": "code",
   "execution_count": 2,
   "id": "8fdfebae-fdac-4658-b66e-b9b1d85b0d88",
   "metadata": {},
   "outputs": [
    {
     "name": "stdout",
     "output_type": "stream",
     "text": [
      "enter the number 3\n",
      "enter the number 6\n"
     ]
    },
    {
     "name": "stdout",
     "output_type": "stream",
     "text": [
      "addition of 3 & 6 =9\n"
     ]
    }
   ],
   "source": [
    "oki=int(input(\"enter the number\"))\n",
    "doki=int(input(\"enter the number\"))\n",
    "def add():\n",
    "    print(f\"addition of {oki} & {doki} ={oki+doki}\")\n",
    "add()"
   ]
  },
  {
   "cell_type": "code",
   "execution_count": 3,
   "id": "3e59d434-7811-4c58-b327-d4ac668113c2",
   "metadata": {},
   "outputs": [
    {
     "ename": "SyntaxError",
     "evalue": "parameter without a default follows parameter with a default (1992965858.py, line 2)",
     "output_type": "error",
     "traceback": [
      "  \u001b[36mCell\u001b[39m\u001b[36m \u001b[39m\u001b[32mIn[3]\u001b[39m\u001b[32m, line 2\u001b[39m\n\u001b[31m    \u001b[39m\u001b[31mdef add (a=7,b):\u001b[39m\n                 ^\n\u001b[31mSyntaxError\u001b[39m\u001b[31m:\u001b[39m parameter without a default follows parameter with a default\n"
     ]
    }
   ],
   "source": [
    "#positional arguments\n",
    "def add (a=7,b):\n",
    "    print(a+b)\n",
    "add(10,20)"
   ]
  },
  {
   "cell_type": "code",
   "execution_count": 4,
   "id": "a3f8508c-9204-4f4c-b5ad-207634a51f8c",
   "metadata": {},
   "outputs": [
    {
     "name": "stdout",
     "output_type": "stream",
     "text": [
      "enter a no: 8\n"
     ]
    },
    {
     "name": "stdout",
     "output_type": "stream",
     "text": [
      "8 is even\n"
     ]
    }
   ],
   "source": [
    "#creaate a fun to check no iss even or odd\n",
    "a=int(input(\"enter a no:\"))\n",
    "def eo(a):\n",
    "    if a%2==0:\n",
    "        print(a ,\"is even\")\n",
    "    else:\n",
    "        print(a,\"is odd\")\n",
    "eo(a)"
   ]
  },
  {
   "cell_type": "code",
   "execution_count": 5,
   "id": "6db92947-ba72-4e49-b123-9021b3f4facb",
   "metadata": {},
   "outputs": [
    {
     "name": "stdout",
     "output_type": "stream",
     "text": [
      "name of the person is Sahil Hooda\n"
     ]
    }
   ],
   "source": [
    "def info():\n",
    "    global name,surname\n",
    "    name='Sahil'\n",
    "    surname='Hooda'\n",
    "    print(f'name of the person is {name} {surname}')\n",
    "info()"
   ]
  },
  {
   "cell_type": "code",
   "execution_count": 6,
   "id": "6f011d66-aed6-4466-901e-7d1f6607659d",
   "metadata": {},
   "outputs": [],
   "source": [
    "def name():\n",
    "    print('we are in outer function')\n",
    "    def full_name():\n",
    "        print('we are in inner function')\n",
    "    full_name()"
   ]
  },
  {
   "cell_type": "code",
   "execution_count": 7,
   "id": "f9b66953-f3aa-4578-91a5-8b0549d6131b",
   "metadata": {},
   "outputs": [
    {
     "name": "stdout",
     "output_type": "stream",
     "text": [
      "we are in outer function\n",
      "we are in inner function\n"
     ]
    }
   ],
   "source": [
    "name()"
   ]
  },
  {
   "cell_type": "code",
   "execution_count": 8,
   "id": "4da175cc-9f16-402b-be7d-deca80700bcd",
   "metadata": {},
   "outputs": [
    {
     "name": "stdout",
     "output_type": "stream",
     "text": [
      "63\n",
      "None\n"
     ]
    }
   ],
   "source": [
    "def mul(a,b):\n",
    "    c=a*b\n",
    "    print(c)\n",
    "z=mul(7,9)\n",
    "print(z)"
   ]
  },
  {
   "cell_type": "code",
   "execution_count": 9,
   "id": "ccc8f8aa-3de3-457f-9ba0-8f22be198c9c",
   "metadata": {},
   "outputs": [
    {
     "name": "stdout",
     "output_type": "stream",
     "text": [
      "we are in outer function\n",
      "we are in inner function\n"
     ]
    }
   ],
   "source": [
    "def name():\n",
    "    print('we are in outer function')\n",
    "    def full_name():\n",
    "        print('we are in inner function')\n",
    "    return full_name()\n",
    "inner_func=name()"
   ]
  },
  {
   "cell_type": "code",
   "execution_count": 10,
   "id": "2b01f7c8-9217-4620-af61-95d44c88b9cc",
   "metadata": {},
   "outputs": [
    {
     "ename": "TypeError",
     "evalue": "'NoneType' object is not callable",
     "output_type": "error",
     "traceback": [
      "\u001b[31m---------------------------------------------------------------------------\u001b[39m",
      "\u001b[31mTypeError\u001b[39m                                 Traceback (most recent call last)",
      "\u001b[36mCell\u001b[39m\u001b[36m \u001b[39m\u001b[32mIn[10]\u001b[39m\u001b[32m, line 1\u001b[39m\n\u001b[32m----> \u001b[39m\u001b[32m1\u001b[39m \u001b[43minner_func\u001b[49m\u001b[43m(\u001b[49m\u001b[43m)\u001b[49m\n",
      "\u001b[31mTypeError\u001b[39m: 'NoneType' object is not callable"
     ]
    }
   ],
   "source": [
    "inner_func()\n"
   ]
  },
  {
   "cell_type": "code",
   "execution_count": 11,
   "id": "c0205792-69c1-4c82-adbb-8f9bfbf1a776",
   "metadata": {},
   "outputs": [
    {
     "name": "stdout",
     "output_type": "stream",
     "text": [
      "enter the no: 6\n"
     ]
    },
    {
     "name": "stdout",
     "output_type": "stream",
     "text": [
      "the fact 6 is:720\n"
     ]
    }
   ],
   "source": [
    "#create a fun to find the factorial of a no\n",
    "a=int(input('enter the no:'))\n",
    "def fact():\n",
    "    fact=1\n",
    "    for i in range(1, a + 1):\n",
    "           fact *= i\n",
    "    print(f\"the fact {a} is:{fact}\")\n",
    "fact()"
   ]
  },
  {
   "cell_type": "code",
   "execution_count": 12,
   "id": "d49a32ea-daea-46e9-ae76-ff9621392764",
   "metadata": {},
   "outputs": [
    {
     "name": "stdout",
     "output_type": "stream",
     "text": [
      "you are in outer function\n",
      "you are in outer function\n"
     ]
    }
   ],
   "source": [
    "def outer():\n",
    "    print('you are in outer function')\n",
    "    def inner():\n",
    "        print('you are in inner function')\n",
    "    return inner\n",
    "outer()\n",
    "access_inner=outer()"
   ]
  },
  {
   "cell_type": "code",
   "execution_count": 13,
   "id": "be5466bc-a0f4-487e-9421-88dd1bdcaf4b",
   "metadata": {},
   "outputs": [
    {
     "name": "stdout",
     "output_type": "stream",
     "text": [
      "you are in inner function\n"
     ]
    }
   ],
   "source": [
    "access_inner()"
   ]
  },
  {
   "cell_type": "code",
   "execution_count": 14,
   "id": "620e965d-0781-421d-b775-61a6fdc032e2",
   "metadata": {},
   "outputs": [
    {
     "name": "stdout",
     "output_type": "stream",
     "text": [
      "79\n",
      "None\n",
      "79\n"
     ]
    }
   ],
   "source": [
    "def add(x,y):\n",
    "    z=x+y\n",
    "    print(z)\n",
    "access=add(78,1)\n",
    "print(access)\n",
    "def add(x,y):\n",
    "     z=x+y\n",
    "     return z\n",
    "acs=add(78,1)\n",
    "print(acs)"
   ]
  },
  {
   "cell_type": "code",
   "execution_count": 15,
   "id": "9f4007a7-b3a9-4115-bcdf-82f62ef7923d",
   "metadata": {},
   "outputs": [
    {
     "data": {
      "text/plain": [
       "54"
      ]
     },
     "execution_count": 15,
     "metadata": {},
     "output_type": "execute_result"
    }
   ],
   "source": [
    "#lamda arguments\n",
    "mul=lambda a,b:a*b\n",
    "mul(9,6)"
   ]
  },
  {
   "cell_type": "code",
   "execution_count": 16,
   "id": "6d034317-5bb3-4a26-a72a-b06bd82f935f",
   "metadata": {},
   "outputs": [
    {
     "data": {
      "text/plain": [
       "81"
      ]
     },
     "execution_count": 16,
     "metadata": {},
     "output_type": "execute_result"
    }
   ],
   "source": [
    "square=lambda x:x**2\n",
    "square(9)"
   ]
  },
  {
   "cell_type": "code",
   "execution_count": 17,
   "id": "ab4f128f-136d-48dd-b7e1-168cff4358d1",
   "metadata": {},
   "outputs": [
    {
     "data": {
      "text/plain": [
       "72"
      ]
     },
     "execution_count": 17,
     "metadata": {},
     "output_type": "execute_result"
    }
   ],
   "source": [
    "mul=lambda a,b:a*b+a+b+a-b\n",
    "mul(9,6)"
   ]
  },
  {
   "cell_type": "code",
   "execution_count": 18,
   "id": "3c7e88b7-32d6-4d8c-9b20-8e024ea51c76",
   "metadata": {},
   "outputs": [
    {
     "name": "stdout",
     "output_type": "stream",
     "text": [
      "10\n"
     ]
    }
   ],
   "source": [
    "#create a fun to find the sum of all natural no between 1 to 5\n",
    "def sum(a,b):\n",
    "    sum=0\n",
    "    for i in range(a,b):\n",
    "        sum+=i\n",
    "    print(sum)\n",
    "sum(1,5)"
   ]
  },
  {
   "cell_type": "code",
   "execution_count": 19,
   "id": "6343d01d-b331-43fc-ab59-fac96e400790",
   "metadata": {},
   "outputs": [
    {
     "name": "stdout",
     "output_type": "stream",
     "text": [
      "4\n"
     ]
    }
   ],
   "source": [
    "#create a fun to find the sum of all natural no between 1 to 5\n",
    "def sum_odd(a,b):\n",
    "    sum=0\n",
    "    for i in range(a,b):\n",
    "            if i%2!=0:\n",
    "                sum+=i\n",
    "    print(sum)\n",
    "sum_odd(1,5)"
   ]
  },
  {
   "cell_type": "code",
   "execution_count": 21,
   "id": "00b7f130-45b9-42b1-b4e0-b340e0178f72",
   "metadata": {},
   "outputs": [],
   "source": [
    "def factorial(n):\n",
    "    if n==1:\n",
    "        return 1\n",
    "    else:\n",
    "        return n*factorial(n-1)"
   ]
  },
  {
   "cell_type": "code",
   "execution_count": 22,
   "id": "1428ede1-f114-4e5a-81d5-1b4df2525c72",
   "metadata": {},
   "outputs": [
    {
     "data": {
      "text/plain": [
       "120"
      ]
     },
     "execution_count": 22,
     "metadata": {},
     "output_type": "execute_result"
    }
   ],
   "source": [
    "factorial(5)"
   ]
  },
  {
   "cell_type": "code",
   "execution_count": 23,
   "id": "a23da66f-51a4-4b8e-87d9-a2978a79e1d1",
   "metadata": {},
   "outputs": [],
   "source": [
    "def sum_odd_transc(transcations,lower,higher):\n",
    "    total=0\n",
    "    for amount in transactions:\n",
    "        if lower<=amount <=higher and amount%2!=0:\n",
    "            total+=amount\n",
    "        return total"
   ]
  },
  {
   "cell_type": "code",
   "execution_count": 24,
   "id": "4fda69c9-588c-465e-95d4-a144b43ebe51",
   "metadata": {},
   "outputs": [],
   "source": [
    "transactions=[129,135,756,78,79,450,751,889,999,1009]\n",
    "result=sum_odd_transc(transactions,100,900)\n"
   ]
  },
  {
   "cell_type": "code",
   "execution_count": 25,
   "id": "44dc2d1b-39d1-4ac6-967a-b6a25506973c",
   "metadata": {},
   "outputs": [
    {
     "name": "stdout",
     "output_type": "stream",
     "text": [
      "129\n"
     ]
    }
   ],
   "source": [
    "print(result)"
   ]
  },
  {
   "cell_type": "code",
   "execution_count": 26,
   "id": "56c7bd2f-d318-4fd8-bab3-8fba75069f2d",
   "metadata": {},
   "outputs": [],
   "source": [
    "x=[12,1]\n"
   ]
  },
  {
   "cell_type": "raw",
   "id": "e951b8f4-e775-45f9-898f-dc8b37d0ebef",
   "metadata": {},
   "source": []
  },
  {
   "cell_type": "code",
   "execution_count": 27,
   "id": "a2f00905-8ee4-4191-b2ad-e2ff0d2ada4a",
   "metadata": {},
   "outputs": [
    {
     "name": "stdout",
     "output_type": "stream",
     "text": [
      "Welcome to Pyhton ATM\n",
      "\n",
      "Please select an option:\n",
      "1. Check Balance\n",
      "2. Deposit Money\n",
      "3. Withdraw Money\n",
      "4. Exit\n"
     ]
    },
    {
     "name": "stdout",
     "output_type": "stream",
     "text": [
      "Enter Option  2\n",
      "Enter amount: 90000\n"
     ]
    },
    {
     "name": "stdout",
     "output_type": "stream",
     "text": [
      "Deposit Successful\n",
      "Your current balance is 91000.0\n",
      "\n",
      "Please select an option:\n",
      "1. Check Balance\n",
      "2. Deposit Money\n",
      "3. Withdraw Money\n",
      "4. Exit\n"
     ]
    },
    {
     "name": "stdout",
     "output_type": "stream",
     "text": [
      "Enter Option  4\n"
     ]
    },
    {
     "name": "stdout",
     "output_type": "stream",
     "text": [
      "Thank You For Using Python ATM\n"
     ]
    }
   ],
   "source": [
    "\n",
    "def atm_menu():\n",
    "    balance=1000\n",
    "    pin=0000\n",
    "\n",
    "        \n",
    "    def check_bal():\n",
    "        pincode=int(input(\"Enter Your Pin code\"))\n",
    "        if pin==pincode:\n",
    "            print(f\"Your Current Balance is {balance}\")\n",
    "        else:\n",
    "            print(\"invalid Pincode\")\n",
    "        \n",
    "    def deposit():\n",
    "        amt=float(input(\"Enter amount:\"))\n",
    "        nonlocal balance\n",
    "        balance+=amt\n",
    "        print(\"Deposit Successful\")\n",
    "        print(f\"Your current balance is {balance}\")\n",
    "        \n",
    "    def withdraw():\n",
    "        amt=float(input(\"Enter amount:\"))\n",
    "        nonlocal balance\n",
    "        if amt>balance:\n",
    "            print(\"Insufficient Balance\")\n",
    "        else:\n",
    "            balance-=amt\n",
    "            print(\"Withdraw Successful\")\n",
    "            print(f\"Your current balance is {balance} \")\n",
    "    print(\"Welcome to Pyhton ATM\")\n",
    "    while True:\n",
    "\n",
    "        print(\"\\nPlease select an option:\")\n",
    "        print(\"1. Check Balance\")\n",
    "        print(\"2. Deposit Money\")\n",
    "        print(\"3. Withdraw Money\")\n",
    "        print(\"4. Exit\")\n",
    "\n",
    "        option=input(\"Enter Option \")\n",
    "        if option==\"1\":\n",
    "            check_bal()\n",
    "        if option==\"2\":\n",
    "            deposit()\n",
    "        if option==\"3\":\n",
    "            withdraw()\n",
    "        if option==\"4\":\n",
    "            print(\"Thank You For Using Python ATM\")\n",
    "            break\n",
    "\n",
    "atm_menu()"
   ]
  },
  {
   "cell_type": "code",
   "execution_count": 30,
   "id": "64c25620-809f-4a34-9de6-451c5d46f0fa",
   "metadata": {},
   "outputs": [
    {
     "name": "stdout",
     "output_type": "stream",
     "text": [
      "1\n",
      "4\n",
      "9\n",
      "16\n",
      "25\n"
     ]
    }
   ],
   "source": [
    "a=[1,2,3,4,5]\n",
    "for i in a:\n",
    "    print(i**2)"
   ]
  },
  {
   "cell_type": "code",
   "execution_count": 33,
   "id": "1911003c-92a5-4016-b3b8-d7fa396d39a0",
   "metadata": {},
   "outputs": [
    {
     "name": "stdout",
     "output_type": "stream",
     "text": [
      "['e', 'u', 'a', 'i', 'o']\n"
     ]
    }
   ],
   "source": [
    "s=\"education\"\n",
    "l=[char for char in s if char in \"aeiouAEIOU\"]\n",
    "print(l)"
   ]
  },
  {
   "cell_type": "code",
   "execution_count": 34,
   "id": "bd180b85-c99c-4a19-9e3b-6b595e26878a",
   "metadata": {},
   "outputs": [
    {
     "name": "stdout",
     "output_type": "stream",
     "text": [
      "mon\n"
     ]
    }
   ],
   "source": [
    "days=(\"mon\",\"tue\",\"wed\",\"thurs\",\"fri\",\"sat\")\n",
    "print(days[0])"
   ]
  },
  {
   "cell_type": "code",
   "execution_count": 35,
   "id": "6f7c202a-d648-4d08-bb9e-0cb076293ceb",
   "metadata": {},
   "outputs": [
    {
     "name": "stdout",
     "output_type": "stream",
     "text": [
      "wed\n"
     ]
    }
   ],
   "source": [
    "print(days[2])"
   ]
  },
  {
   "cell_type": "code",
   "execution_count": 36,
   "id": "68db31c4-7343-44a6-b6aa-0298d15b4af0",
   "metadata": {},
   "outputs": [
    {
     "name": "stdout",
     "output_type": "stream",
     "text": [
      "('tue', 'wed')\n"
     ]
    }
   ],
   "source": [
    "print(days[1:3])"
   ]
  },
  {
   "cell_type": "code",
   "execution_count": 37,
   "id": "05f13888-b226-4799-9c5d-f6bc31426e90",
   "metadata": {},
   "outputs": [
    {
     "name": "stdout",
     "output_type": "stream",
     "text": [
      "Sparsh\n"
     ]
    }
   ],
   "source": [
    "#DATA TYPES-\n",
    "#MUTABLE VS IMMUTABLE\n",
    "\n",
    "#STRING- GROUP OF CHARACHTERS\n",
    "#IMMUTABLE\n",
    "name=\"Sparsh\"\n",
    "print(name)"
   ]
  },
  {
   "cell_type": "code",
   "execution_count": 38,
   "id": "3956363b-4930-4841-b22e-5c3e404f9886",
   "metadata": {},
   "outputs": [
    {
     "name": "stdout",
     "output_type": "stream",
     "text": [
      "6\n"
     ]
    }
   ],
   "source": [
    "print(len(name))"
   ]
  },
  {
   "cell_type": "code",
   "execution_count": 39,
   "id": "264aa7c1-f57e-4cb3-9593-743c8650b751",
   "metadata": {},
   "outputs": [
    {
     "name": "stdout",
     "output_type": "stream",
     "text": [
      "123\n",
      "2912177271312\n",
      "321\n",
      "2912181280208\n"
     ]
    }
   ],
   "source": [
    "a='123'\n",
    "print(a)\n",
    "print(id(a))\n",
    "a=a[::-1]\n",
    "print(a)\n",
    "print(id(a))"
   ]
  },
  {
   "cell_type": "code",
   "execution_count": 40,
   "id": "03c0202e-9aca-41e4-aea7-39d3180fb797",
   "metadata": {},
   "outputs": [
    {
     "name": "stdout",
     "output_type": "stream",
     "text": [
      "2912088476624\n",
      "Name\n",
      "2912725554000\n",
      "name\n"
     ]
    }
   ],
   "source": [
    "a=\"Name\"\n",
    "print(id(a))\n",
    "print(a)\n",
    "a=a.lower()\n",
    "print(id(a))\n",
    "print(a)"
   ]
  },
  {
   "cell_type": "code",
   "execution_count": 41,
   "id": "aeb79f53-6aaf-4cbf-b310-1ca76f26f9e2",
   "metadata": {},
   "outputs": [
    {
     "name": "stdout",
     "output_type": "stream",
     "text": [
      "indiaindiaindia\n"
     ]
    }
   ],
   "source": [
    "s1=\"india\"\n",
    "s2=3\n",
    "print(s1*s2)"
   ]
  },
  {
   "cell_type": "code",
   "execution_count": 42,
   "id": "c401d1b5-bb7b-42a5-b257-a1f7edf589ea",
   "metadata": {},
   "outputs": [
    {
     "name": "stdout",
     "output_type": "stream",
     "text": [
      "97\n",
      "122\n",
      "65\n",
      "90\n",
      "False\n"
     ]
    }
   ],
   "source": [
    "#ordinal value o each charchter (which decide greater)\n",
    "print(ord(\"a\"))\n",
    "print(ord(\"z\"))\n",
    "print(ord(\"A\"))\n",
    "print(ord(\"Z\"))\n",
    "print(\"a\"<\"A\")"
   ]
  },
  {
   "cell_type": "code",
   "execution_count": 43,
   "id": "cf4c5ef2-9189-4ed2-aa43-6feb207a9db5",
   "metadata": {},
   "outputs": [
    {
     "ename": "TypeError",
     "evalue": "can't multiply sequence by non-int of type 'float'",
     "output_type": "error",
     "traceback": [
      "\u001b[31m---------------------------------------------------------------------------\u001b[39m",
      "\u001b[31mTypeError\u001b[39m                                 Traceback (most recent call last)",
      "\u001b[36mCell\u001b[39m\u001b[36m \u001b[39m\u001b[32mIn[43]\u001b[39m\u001b[32m, line 3\u001b[39m\n\u001b[32m      1\u001b[39m s1=\u001b[33m\"\u001b[39m\u001b[33mindia\u001b[39m\u001b[33m\"\u001b[39m\n\u001b[32m      2\u001b[39m s2=\u001b[32m3.5\u001b[39m\n\u001b[32m----> \u001b[39m\u001b[32m3\u001b[39m s3=\u001b[43ms1\u001b[49m\u001b[43m*\u001b[49m\u001b[43ms2\u001b[49m\n\u001b[32m      4\u001b[39m \u001b[38;5;28mprint\u001b[39m(s3)\n",
      "\u001b[31mTypeError\u001b[39m: can't multiply sequence by non-int of type 'float'"
     ]
    }
   ],
   "source": [
    "s1=\"india\"\n",
    "s2=3.5\n",
    "s3=s1*s2\n",
    "print(s3)"
   ]
  },
  {
   "cell_type": "code",
   "execution_count": 44,
   "id": "51c593cf-4961-4681-9a71-3e2fb7e97756",
   "metadata": {},
   "outputs": [
    {
     "name": "stdout",
     "output_type": "stream",
     "text": [
      "a\n",
      "i\n",
      "n\n",
      "d\n",
      "i\n",
      "a\n"
     ]
    }
   ],
   "source": [
    "#min function\n",
    "s=\"india\"\n",
    "print(min(s))   #gives min char\n",
    "for i in s: \n",
    "    print(i)"
   ]
  },
  {
   "cell_type": "code",
   "execution_count": 45,
   "id": "9d1904a7-efb8-4ac2-8c32-ff52e8633fdb",
   "metadata": {},
   "outputs": [
    {
     "name": "stdout",
     "output_type": "stream",
     "text": [
      "n\n"
     ]
    }
   ],
   "source": [
    "print(max(s))"
   ]
  },
  {
   "cell_type": "code",
   "execution_count": 46,
   "id": "da5a29de-2ba0-4eb9-aafa-fc300ed2c86f",
   "metadata": {},
   "outputs": [
    {
     "name": "stdout",
     "output_type": "stream",
     "text": [
      "a\n",
      "i n d i a "
     ]
    }
   ],
   "source": [
    "#min function\n",
    "s=\"india\"\n",
    "print(min(s))   #gives min char\n",
    "for i in s: \n",
    "    print(i,end=\" \")"
   ]
  },
  {
   "cell_type": "code",
   "execution_count": 47,
   "id": "f0cb8cb1-8e60-49d7-9585-6b0d927c73b5",
   "metadata": {},
   "outputs": [
    {
     "name": "stdout",
     "output_type": "stream",
     "text": [
      "DATA ANALYTICS\n",
      "data analytics\n"
     ]
    }
   ],
   "source": [
    "s=\"DATA ANALYTICS\"\n",
    "print(s)\n",
    "s.lower()\n",
    "s2=s.lower()\n",
    "print(s2)"
   ]
  },
  {
   "cell_type": "code",
   "execution_count": 48,
   "id": "3392bab7-5b94-441d-b717-8a6b6fcdf8df",
   "metadata": {},
   "outputs": [
    {
     "name": "stdout",
     "output_type": "stream",
     "text": [
      "data analytics\n",
      "data analytics\n"
     ]
    }
   ],
   "source": [
    "s=\"DATA ANALYTICS\"\n",
    "s1=s.swapcase()\n",
    "print(s1)\n",
    "s.lower()\n",
    "s2=s.lower()\n",
    "print(s2)"
   ]
  },
  {
   "cell_type": "code",
   "execution_count": 49,
   "id": "aa885d5e-ecd2-4de0-a018-21c5c4ea8986",
   "metadata": {},
   "outputs": [
    {
     "name": "stdout",
     "output_type": "stream",
     "text": [
      "arpita\n",
      "srpits\n"
     ]
    }
   ],
   "source": [
    "s=\"arpita\"\n",
    "print(s)\n",
    "print(s.replace(\"a\",\"s\"))"
   ]
  },
  {
   "cell_type": "code",
   "execution_count": 50,
   "id": "6dabd18d-25c5-4e2b-8fec-72bbb9e0a348",
   "metadata": {},
   "outputs": [
    {
     "name": "stdout",
     "output_type": "stream",
     "text": [
      "virat kholi\n",
      "virat kholi \n",
      " virat kholi\n"
     ]
    }
   ],
   "source": [
    "#strip\n",
    "s=\" virat kholi \"\n",
    "print(s.strip())\n",
    "print(s.lstrip())\n",
    "print(s.rstrip())"
   ]
  },
  {
   "cell_type": "code",
   "execution_count": 51,
   "id": "204100de-75ec-44c8-9b66-63b39049c5cf",
   "metadata": {},
   "outputs": [
    {
     "name": "stdout",
     "output_type": "stream",
     "text": [
      "Enter username: india\n",
      "Enter your password: piku\n"
     ]
    },
    {
     "name": "stdout",
     "output_type": "stream",
     "text": [
      "enter valid details\n"
     ]
    }
   ],
   "source": [
    "#example\n",
    "u=input(\"Enter username:\")\n",
    "p=input(\"Enter your password:\")\n",
    "u=u.strip()\n",
    "u=u.lower()\n",
    "if u==\"india\" and p==\"bharat\":\n",
    "    print(\"login succefully\")\n",
    "else:\n",
    "    print(\"enter valid details\")"
   ]
  },
  {
   "cell_type": "code",
   "execution_count": 52,
   "id": "3619a42c-8361-4198-a7c9-06878b9ff8ec",
   "metadata": {},
   "outputs": [
    {
     "name": "stdout",
     "output_type": "stream",
     "text": [
      "True\n"
     ]
    }
   ],
   "source": [
    "s=\"python\"\n",
    "print(\"on\" in s)"
   ]
  },
  {
   "cell_type": "code",
   "execution_count": 53,
   "id": "0ec6961a-da8a-43b2-a10e-cd61940f4837",
   "metadata": {},
   "outputs": [
    {
     "name": "stdout",
     "output_type": "stream",
     "text": [
      "False\n"
     ]
    }
   ],
   "source": [
    "print(\"to\" in s)"
   ]
  },
  {
   "cell_type": "code",
   "execution_count": 54,
   "id": "7c702488-ee52-488e-b4c8-9b1286e4942d",
   "metadata": {},
   "outputs": [
    {
     "name": "stdout",
     "output_type": "stream",
     "text": [
      "t True\n"
     ]
    }
   ],
   "source": [
    "print(\"t\",\"o\" in s)"
   ]
  },
  {
   "cell_type": "code",
   "execution_count": 55,
   "id": "fcf249d6-c9e5-4418-ba85-7b636f668985",
   "metadata": {},
   "outputs": [
    {
     "name": "stdout",
     "output_type": "stream",
     "text": [
      "True\n"
     ]
    }
   ],
   "source": [
    "s=\"+91997865265\"\n",
    "print(s.startswith(\"+91\"))"
   ]
  },
  {
   "cell_type": "code",
   "execution_count": 56,
   "id": "f37d54e6-e8e1-45b3-94da-74d66260abc9",
   "metadata": {},
   "outputs": [
    {
     "name": "stdout",
     "output_type": "stream",
     "text": [
      "True\n"
     ]
    }
   ],
   "source": [
    "s=\"abc.jpg\"\n",
    "print(s.endswith(\"jpg\"))"
   ]
  },
  {
   "cell_type": "code",
   "execution_count": 57,
   "id": "f136925d-7e79-4fa3-9ef5-04f9ef4c8d8b",
   "metadata": {},
   "outputs": [
    {
     "name": "stdout",
     "output_type": "stream",
     "text": [
      "a\n"
     ]
    }
   ],
   "source": [
    "print(chr(97))"
   ]
  },
  {
   "cell_type": "code",
   "execution_count": 58,
   "id": "452d231f-505a-4211-a430-5810613a5730",
   "metadata": {},
   "outputs": [
    {
     "name": "stdout",
     "output_type": "stream",
     "text": [
      "76.0\n"
     ]
    }
   ],
   "source": [
    "print(23+32+14/2*3)"
   ]
  },
  {
   "cell_type": "code",
   "execution_count": 59,
   "id": "08fb794e-2dac-4513-aa57-e0e3f8d289f7",
   "metadata": {},
   "outputs": [
    {
     "name": "stdout",
     "output_type": "stream",
     "text": [
      "enter your expression 23+23+12/3\n"
     ]
    },
    {
     "name": "stdout",
     "output_type": "stream",
     "text": [
      "50.0\n"
     ]
    }
   ],
   "source": [
    "a=eval(input(\"enter your expression\"))\n",
    "print(a)"
   ]
  },
  {
   "cell_type": "code",
   "execution_count": 60,
   "id": "470a3182-43a4-4e25-8c60-fcd4ed37fe47",
   "metadata": {},
   "outputs": [
    {
     "name": "stdout",
     "output_type": "stream",
     "text": [
      "aidnI\n"
     ]
    }
   ],
   "source": [
    "s = \"India\"\n",
    "reversed_str = \"\"\n",
    "for i in s:\n",
    "    reversed_str = i + reversed_str\n",
    "print(reversed_str)"
   ]
  },
  {
   "cell_type": "code",
   "execution_count": 61,
   "id": "fcf1d500-2e81-4e90-b071-57c2943af5d1",
   "metadata": {},
   "outputs": [
    {
     "name": "stdout",
     "output_type": "stream",
     "text": [
      "India is not a palindrome.\n"
     ]
    }
   ],
   "source": [
    "s = \"India\"\n",
    "reversed_str = \"\"\n",
    "for i in s:\n",
    "    reversed_str = i + reversed_str\n",
    "def is_palindrome(n):\n",
    "    str_n = str(n)\n",
    "    reversed_str = \"\"\n",
    "if is_palindrome(s):\n",
    "    print(f\"{s} is a palindrome!\")\n",
    "else:\n",
    "    print(f\"{s} is not a palindrome.\")"
   ]
  },
  {
   "cell_type": "code",
   "execution_count": 62,
   "id": "72b0be17-6ef8-4ac8-bbed-2b515829d59e",
   "metadata": {},
   "outputs": [
    {
     "name": "stdout",
     "output_type": "stream",
     "text": [
      "i\n",
      "a\n",
      "n\n"
     ]
    }
   ],
   "source": [
    "s=\"india\"\n",
    "print(s[0])\n",
    "print(s[-1])\n",
    "print(s[-4])"
   ]
  },
  {
   "cell_type": "code",
   "execution_count": 63,
   "id": "fb0afb3a-9264-4659-9560-74a27db036e6",
   "metadata": {},
   "outputs": [
    {
     "name": "stdout",
     "output_type": "stream",
     "text": [
      "ind\n"
     ]
    }
   ],
   "source": [
    "#slicing\n",
    "print(s[0:3:1])"
   ]
  },
  {
   "cell_type": "code",
   "execution_count": 64,
   "id": "3747f7e6-6938-44e1-b160-bda47f227700",
   "metadata": {},
   "outputs": [
    {
     "name": "stdout",
     "output_type": "stream",
     "text": [
      "nd\n"
     ]
    }
   ],
   "source": [
    "print(s[1:3])"
   ]
  },
  {
   "cell_type": "code",
   "execution_count": 65,
   "id": "4b675d55-75b5-4bbd-b5f7-a68bb3e005c1",
   "metadata": {},
   "outputs": [
    {
     "name": "stdout",
     "output_type": "stream",
     "text": [
      "['sonu', 'monu', 'riya', 12, 15.0, (1, 23)]\n"
     ]
    }
   ],
   "source": [
    "s=[\"sonu\",\"monu\",\"riya\",12,15.0,(1,23)]\n",
    "print(s)"
   ]
  },
  {
   "cell_type": "code",
   "execution_count": 66,
   "id": "260ac624-f252-4aa2-9a29-55d33a6adb5d",
   "metadata": {},
   "outputs": [
    {
     "name": "stdout",
     "output_type": "stream",
     "text": [
      "sonu\n",
      "(1, 23)\n"
     ]
    }
   ],
   "source": [
    "print(s[0])\n",
    "print(s[-1])"
   ]
  },
  {
   "cell_type": "code",
   "execution_count": 67,
   "id": "dc83bdb8-2bef-423f-9193-d3ee9f3dfe16",
   "metadata": {},
   "outputs": [
    {
     "name": "stdout",
     "output_type": "stream",
     "text": [
      "['sonu', 'monu', 'riya', 12, 15.0, (1, 23), 'Abhishek']\n"
     ]
    }
   ],
   "source": [
    "#list methods\n",
    "#append- use to add elements at last index\n",
    "s.append(\"Abhishek\")\n",
    "print(s)"
   ]
  },
  {
   "cell_type": "code",
   "execution_count": 68,
   "id": "031a8786-3667-4e73-ad91-7c17e41a3dd8",
   "metadata": {},
   "outputs": [
    {
     "name": "stdout",
     "output_type": "stream",
     "text": [
      "['Hello', 'sonu', 'monu', 'riya', 12, 15.0, (1, 23), 'Abhishek']\n"
     ]
    }
   ],
   "source": [
    "s.insert(0,\"Hello\")\n",
    "print(s)"
   ]
  },
  {
   "cell_type": "code",
   "execution_count": 69,
   "id": "11eef216-47a7-41e5-82ad-86a9a37033e0",
   "metadata": {},
   "outputs": [
    {
     "name": "stdout",
     "output_type": "stream",
     "text": [
      "['juice', 'sonu', 'monu', 'riya', 12, 15.0, (1, 23)]\n"
     ]
    }
   ],
   "source": [
    "s=[\"Hello\",\"sonu\",\"monu\",\"riya\",12,15.0,(1,23)]\n",
    "s.append(\"tea\")\n",
    "s.insert(1,\"juice\")\n",
    "s.remove(\"Hello\")\n",
    "s.pop()\n",
    "s.count(\"Hello\")\n",
    "s.index(\"monu\")\n",
    "\n",
    "print(s)"
   ]
  },
  {
   "cell_type": "code",
   "execution_count": 71,
   "id": "63c25c6e-f6ea-4e82-8a3b-583f37a996e0",
   "metadata": {},
   "outputs": [
    {
     "name": "stdout",
     "output_type": "stream",
     "text": [
      "[]\n"
     ]
    }
   ],
   "source": [
    "s.clear()\n",
    "print(s)\n"
   ]
  },
  {
   "cell_type": "code",
   "execution_count": 72,
   "id": "39621c34-9939-41fa-b19e-0ea45550ea01",
   "metadata": {},
   "outputs": [],
   "source": [
    "#q.create a list of square value from 1 to 100\n",
    "square=[x**2 for x in range(1,11)]"
   ]
  },
  {
   "cell_type": "code",
   "execution_count": 73,
   "id": "5acc7d3d-6f87-4691-ab64-9132f9a17f51",
   "metadata": {},
   "outputs": [
    {
     "name": "stdout",
     "output_type": "stream",
     "text": [
      "[1, 4, 9, 16, 25, 36, 49, 64, 81, 100]\n"
     ]
    }
   ],
   "source": [
    "print(square)"
   ]
  },
  {
   "cell_type": "code",
   "execution_count": 74,
   "id": "4ca61960-b989-4cf9-85a3-346990cb7820",
   "metadata": {},
   "outputs": [
    {
     "name": "stdout",
     "output_type": "stream",
     "text": [
      "1\n",
      "4\n",
      "9\n",
      "16\n",
      "25\n"
     ]
    }
   ],
   "source": [
    "s=[1,2,3,4,5]\n",
    "for i in s:\n",
    "    print(i**2)"
   ]
  },
  {
   "cell_type": "code",
   "execution_count": 75,
   "id": "dbf884e6-7a87-4985-8c46-08ef29139077",
   "metadata": {},
   "outputs": [
    {
     "name": "stdout",
     "output_type": "stream",
     "text": [
      "[1, 4, 9, 16, 25, 36, 49, 64, 81, 100]\n"
     ]
    }
   ],
   "source": [
    "s=[]\n",
    "for i in range(1,11):\n",
    "    s.append(i**2)\n",
    "print(s)"
   ]
  },
  {
   "cell_type": "code",
   "execution_count": 76,
   "id": "3e26d6cd-542f-4802-866b-9e84b3e1b217",
   "metadata": {},
   "outputs": [
    {
     "name": "stdout",
     "output_type": "stream",
     "text": [
      "[1, 8, 27, 64, 125, 216, 343, 512, 729, 1000]\n"
     ]
    }
   ],
   "source": [
    "s=[]\n",
    "for i in range(1,11):\n",
    "    s.append(i**3)\n",
    "print(s)"
   ]
  },
  {
   "cell_type": "code",
   "execution_count": 77,
   "id": "5f77c56c-ca2a-41fc-9df2-b69bcb45e8d3",
   "metadata": {},
   "outputs": [
    {
     "name": "stdout",
     "output_type": "stream",
     "text": [
      "mon\n",
      "tue\n",
      "wed\n",
      "thurs\n",
      "fri\n",
      "sat\n"
     ]
    }
   ],
   "source": [
    "for day in days:\n",
    "    print(day)"
   ]
  },
  {
   "cell_type": "code",
   "execution_count": 78,
   "id": "56a5fa91-4a0c-4d61-9a7f-4f5537bd55ec",
   "metadata": {},
   "outputs": [
    {
     "name": "stdout",
     "output_type": "stream",
     "text": [
      "('A', 'B', 10, 10.2)\n"
     ]
    }
   ],
   "source": [
    "tup=(\"A\",\"B\",10,10.2)\n",
    "print(tup)"
   ]
  },
  {
   "cell_type": "code",
   "execution_count": 85,
   "id": "013bccef-a413-4fa4-b198-ebde2e8bfaba",
   "metadata": {},
   "outputs": [
    {
     "name": "stdout",
     "output_type": "stream",
     "text": [
      "{'name': 'pihu', 'age': 18, 'city': 'delhi'}\n"
     ]
    }
   ],
   "source": [
    "#dictionary--store data in pair of key and values\n",
    "#mutable\n",
    "student ={\n",
    "    'name':'pihu',\n",
    "    \"age\": 18,\n",
    "    \"city\": \"delhi\"\n",
    "}\n",
    "print(student)"
   ]
  },
  {
   "cell_type": "code",
   "execution_count": 86,
   "id": "82a34811-bb0f-4a32-a56c-0b6a2b91286e",
   "metadata": {},
   "outputs": [
    {
     "name": "stdout",
     "output_type": "stream",
     "text": [
      "pihu\n",
      "None\n"
     ]
    }
   ],
   "source": [
    "#access values using key\n",
    "print(student[\"name\"])\n",
    "print(student.get(\"marks\"))\n",
    "#add or remove or modify entries\n",
    "student[\"marks\"]=95\n",
    "student[\"age\"]=22"
   ]
  },
  {
   "cell_type": "code",
   "execution_count": 87,
   "id": "0355b760-f82d-4deb-b142-0df644839784",
   "metadata": {},
   "outputs": [
    {
     "name": "stdout",
     "output_type": "stream",
     "text": [
      "dict_keys(['name', 'age', 'city', 'marks'])\n",
      "dict_values(['pihu', 22, 'delhi', 95])\n",
      "dict_items([('name', 'pihu'), ('age', 22), ('city', 'delhi'), ('marks', 95)])\n"
     ]
    }
   ],
   "source": [
    "print(student.keys())\n",
    "print(student.values())\n",
    "print(student.items())"
   ]
  },
  {
   "cell_type": "code",
   "execution_count": 88,
   "id": "8fc5d58a-b256-462e-89eb-7a1a3d7f9546",
   "metadata": {
    "jp-MarkdownHeadingCollapsed": true
   },
   "outputs": [
    {
     "ename": "ZeroDivisionError",
     "evalue": "division by zero",
     "output_type": "error",
     "traceback": [
      "\u001b[31m---------------------------------------------------------------------------\u001b[39m",
      "\u001b[31mZeroDivisionError\u001b[39m                         Traceback (most recent call last)",
      "\u001b[36mCell\u001b[39m\u001b[36m \u001b[39m\u001b[32mIn[88]\u001b[39m\u001b[32m, line 1\u001b[39m\n\u001b[32m----> \u001b[39m\u001b[32m1\u001b[39m \u001b[38;5;28mprint\u001b[39m(\u001b[32;43m10\u001b[39;49m\u001b[43m/\u001b[49m\u001b[32;43m0\u001b[39;49m)\n",
      "\u001b[31mZeroDivisionError\u001b[39m: division by zero"
     ]
    }
   ],
   "source": [
    "print(10/0)"
   ]
  },
  {
   "cell_type": "code",
   "execution_count": 89,
   "id": "bd7dfff0-9c98-42c4-a0a9-c6f395f5f2fb",
   "metadata": {},
   "outputs": [
    {
     "name": "stdout",
     "output_type": "stream",
     "text": [
      "5.0\n",
      "Cannot divide by zero\n"
     ]
    }
   ],
   "source": [
    "# Fix: Avoid division by zero by either:\n",
    "# 1. Using a non-zero denominator\n",
    "print(10/2)  # Using 2 instead of 0\n",
    "\n",
    "# Or 2. Adding a check to prevent division by zero\n",
    "denominator = 0\n",
    "if denominator != 0:\n",
    "    print(10/denominator)\n",
    "else:\n",
    "    print(\"Cannot divide by zero\")"
   ]
  },
  {
   "cell_type": "code",
   "execution_count": 90,
   "id": "482356a5-98c9-435f-9324-893e7f954163",
   "metadata": {},
   "outputs": [
    {
     "name": "stdout",
     "output_type": "stream",
     "text": [
      "hi\n"
     ]
    },
    {
     "name": "stdout",
     "output_type": "stream",
     "text": [
      "enter index[0-3] 2\n"
     ]
    },
    {
     "name": "stdout",
     "output_type": "stream",
     "text": [
      "30\n",
      "bye\n"
     ]
    }
   ],
   "source": [
    "print('hi')\n",
    "x=[10,20,30,40]\n",
    "index=int(input(\"enter index[0-3]\"))\n",
    "print(x[index])\n",
    "print('bye')"
   ]
  },
  {
   "cell_type": "code",
   "execution_count": 98,
   "id": "785adcff-55ab-4620-ae7a-648be252933b",
   "metadata": {},
   "outputs": [
    {
     "name": "stdout",
     "output_type": "stream",
     "text": [
      "hi\n"
     ]
    },
    {
     "name": "stdout",
     "output_type": "stream",
     "text": [
      "enter index[0-3] u\n"
     ]
    },
    {
     "name": "stdout",
     "output_type": "stream",
     "text": [
      "invalid index,using -1 as alternate index\n",
      "bye 1\n"
     ]
    }
   ],
   "source": [
    "print('hi')\n",
    "x=[10,20,30,40]\n",
    "try:\n",
    "    index=int(input(\"enter index[0-3]\"))\n",
    "    print(x[index])\n",
    "except IndexError:\n",
    "    print(\"invalid index,using 0 as alternate index\")\n",
    "    index=0\n",
    "except ValueError:\n",
    "     print(\"invalid index,using -1 as alternate index\")\n",
    "     index=1\n",
    "print('bye',index)\n"
   ]
  },
  {
   "cell_type": "code",
   "execution_count": 99,
   "id": "28bc60cf-d45b-4cde-bdef-7983dbed3b28",
   "metadata": {},
   "outputs": [
    {
     "name": "stdout",
     "output_type": "stream",
     "text": [
      "hi\n"
     ]
    },
    {
     "name": "stdout",
     "output_type": "stream",
     "text": [
      "enter index[0-3] 2\n"
     ]
    },
    {
     "name": "stdout",
     "output_type": "stream",
     "text": [
      "30\n"
     ]
    }
   ],
   "source": [
    "print('hi')\n",
    "x=[10,20,30,40]\n",
    "try:\n",
    "    index=int(input(\"enter index[0-3]\"))\n",
    "    print(x[index])\n",
    "except IndexError:\n",
    "    print(\"invalid index,using 0 as alternate index\")\n",
    "    index=0"
   ]
  },
  {
   "cell_type": "code",
   "execution_count": 101,
   "id": "a0667195-7554-418f-83ed-91c00c36b7e1",
   "metadata": {},
   "outputs": [
    {
     "name": "stdout",
     "output_type": "stream",
     "text": [
      "1\n",
      "division by 0 is not possible\n"
     ]
    }
   ],
   "source": [
    "print(1)\n",
    "try:\n",
    "    print(2/0)\n",
    "except ZeroDivisionError:\n",
    "    print(\"division by 0 is not possible\")"
   ]
  },
  {
   "cell_type": "code",
   "execution_count": 102,
   "id": "ceaf8201-3546-466c-a64b-0b749b0d0b6d",
   "metadata": {},
   "outputs": [],
   "source": [
    "import math\n"
   ]
  },
  {
   "cell_type": "code",
   "execution_count": 103,
   "id": "dc428f9a-2bb6-47fb-8655-57a64c039275",
   "metadata": {},
   "outputs": [
    {
     "data": {
      "text/plain": [
       "3.0"
      ]
     },
     "execution_count": 103,
     "metadata": {},
     "output_type": "execute_result"
    }
   ],
   "source": [
    "math.sqrt(9)"
   ]
  },
  {
   "cell_type": "code",
   "execution_count": 104,
   "id": "587ef933-6e94-4520-b14d-b5f1493d3508",
   "metadata": {},
   "outputs": [],
   "source": [
    "import random\n"
   ]
  },
  {
   "cell_type": "code",
   "execution_count": 111,
   "id": "9cbc53bd-a438-4fa6-9c92-4e25290b02dd",
   "metadata": {},
   "outputs": [
    {
     "data": {
      "text/plain": [
       "602"
      ]
     },
     "execution_count": 111,
     "metadata": {},
     "output_type": "execute_result"
    }
   ],
   "source": [
    "random.randint(1,1000)\n"
   ]
  },
  {
   "cell_type": "code",
   "execution_count": 117,
   "id": "7b4598a5-55dc-49de-902a-58827ba0d076",
   "metadata": {
    "jp-MarkdownHeadingCollapsed": true
   },
   "outputs": [
    {
     "ename": "SyntaxError",
     "evalue": "invalid syntax (1883271264.py, line 7)",
     "output_type": "error",
     "traceback": [
      "  \u001b[36mCell\u001b[39m\u001b[36m \u001b[39m\u001b[32mIn[117]\u001b[39m\u001b[32m, line 7\u001b[39m\n\u001b[31m    \u001b[39m\u001b[31melif :\u001b[39m\n         ^\n\u001b[31mSyntaxError\u001b[39m\u001b[31m:\u001b[39m invalid syntax\n"
     ]
    }
   ],
   "source": [
    "n1=random.randint(1,99)\n",
    "attempt=0\n",
    "guess=None\n",
    "while guess!=n1:\n",
    "     guess=int(input(\"enter ur number\"))\n",
    "    attempt+=1\n",
    "     if guess<n1:\n",
    "        print(\"matched u won\")\n",
    "     elif\n",
    "     else:\n",
    "         print(\"enter again\")"
   ]
  },
  {
   "cell_type": "code",
   "execution_count": null,
   "id": "3a5c1b3e-01d6-4ef5-b2ec-47558ee0697b",
   "metadata": {},
   "outputs": [],
   "source": []
  }
 ],
 "metadata": {
  "kernelspec": {
   "display_name": "Python 3 (ipykernel)",
   "language": "python",
   "name": "python3"
  },
  "language_info": {
   "codemirror_mode": {
    "name": "ipython",
    "version": 3
   },
   "file_extension": ".py",
   "mimetype": "text/x-python",
   "name": "python",
   "nbconvert_exporter": "python",
   "pygments_lexer": "ipython3",
   "version": "3.13.5"
  }
 },
 "nbformat": 4,
 "nbformat_minor": 5
}
