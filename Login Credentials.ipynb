{
  "nbformat": 4,
  "nbformat_minor": 0,
  "metadata": {
    "kernelspec": {
      "display_name": "Python 3",
      "language": "python",
      "name": "python3"
    },
    "language_info": {
      "codemirror_mode": {
        "name": "ipython",
        "version": 3
      },
      "file_extension": ".py",
      "mimetype": "text/x-python",
      "name": "python",
      "nbconvert_exporter": "python",
      "pygments_lexer": "ipython3",
      "version": "3.7.3"
    },
    "colab": {
      "name": "Using Jupyter Notebooks.ipynb",
      "provenance": []
    }
  },
  "cells": [
    {
      "cell_type": "code",
      "source": [
        "user_db = {\n",
        "    \"admin\": \"admin123\",\n",
        "    \"pranjal\": \"abc@123\",\n",
        "    \"guest\": \"guestpass\"\n",
        "}\n",
        "\n",
        "max_attempts = 3\n",
        "attempts = 0\n",
        "\n",
        "while attempts < max_attempts:\n",
        "    print(f\"\\n--- Login Attempt {attempts + 1} of {max_attempts} ---\")\n",
        "\n",
        "    username = input(\"Enter username: \")\n",
        "    password = input(\"Enter password: \")\n",
        "\n",
        "    if username in user_db:\n",
        "        if password == user_db[username]:\n",
        "            print(f\"\\n✅ Login successful. Welcome, {username}!\")\n",
        "            break\n",
        "        else:\n",
        "            print(\"❌ Wrong password. Try again.\")\n",
        "    else:\n",
        "        print(\"⚠️ Username does not exist.\")\n",
        "\n",
        "    attempts += 1\n",
        "\n",
        "if attempts == max_attempts:\n",
        "    print(\"\\n🚫 Too many failed attempts. You are locked out.\")\n"
      ],
      "metadata": {
        "id": "02oE1U4q6p5L",
        "outputId": "8a42c141-0ab9-4722-ed25-5ec2f41cd1ff",
        "colab": {
          "base_uri": "https://localhost:8080/"
        }
      },
      "execution_count": 1,
      "outputs": [
        {
          "output_type": "stream",
          "name": "stdout",
          "text": [
            "\n",
            "--- Login Attempt 1 of 3 ---\n",
            "Enter username: pranjal\n",
            "Enter password: abc@123\n",
            "\n",
            "✅ Login successful. Welcome, pranjal!\n"
          ]
        }
      ]
    },
    {
      "cell_type": "code",
      "source": [],
      "metadata": {
        "id": "as6_-9cw6qZr"
      },
      "execution_count": null,
      "outputs": []
    }
  ]
}