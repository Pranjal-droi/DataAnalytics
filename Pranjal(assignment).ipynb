{
 "cells": [
  {
   "cell_type": "markdown",
   "id": "c32efea4-6803-4dee-8f4e-c2bfd274d820",
   "metadata": {},
   "source": [
    "# 1. Declare three variables and print them"
   ]
  },
  {
   "cell_type": "code",
   "execution_count": 1,
   "id": "fcbfbc41-acff-4fd4-ba59-1b8e9d4bc8da",
   "metadata": {},
   "outputs": [
    {
     "name": "stdout",
     "output_type": "stream",
     "text": [
      "Name: Pranjal\n",
      "Age: 18\n",
      "Course: Data Analytics\n"
     ]
    }
   ],
   "source": [
    "name = \"Pranjal\"\n",
    "age = 18\n",
    "course = \"Data Analytics\"\n",
    "print(\"Name:\", name)\n",
    "print(\"Age:\", age)\n",
    "print(\"Course:\", course)"
   ]
  },
  {
   "cell_type": "markdown",
   "id": "b75ff190-8f71-4848-aee8-c9b0b416aaaf",
   "metadata": {},
   "source": [
    "# 2. Perform basic arithmetic operations"
   ]
  },
  {
   "cell_type": "code",
   "execution_count": 2,
   "id": "383ae970-9671-41e6-b74c-cc028e7ce591",
   "metadata": {},
   "outputs": [
    {
     "name": "stdout",
     "output_type": "stream",
     "text": [
      "Addition: 19\n",
      "Subtraction: 11\n",
      "Multiplication: 60\n",
      "Division: 3.75\n"
     ]
    }
   ],
   "source": [
    "a = 15\n",
    "b = 4\n",
    "print(\"Addition:\", a + b)\n",
    "print(\"Subtraction:\", a - b)\n",
    "print(\"Multiplication:\", a * b)\n",
    "print(\"Division:\", a / b)"
   ]
  },
  {
   "cell_type": "markdown",
   "id": "e80d52e9-f2c5-468a-aa43-588f2339d897",
   "metadata": {},
   "source": [
    "# 3. Show floor division, modulus, and exponentiation"
   ]
  },
  {
   "cell_type": "code",
   "execution_count": 3,
   "id": "d7aceed5-770a-4690-80fd-ed930a9680c4",
   "metadata": {},
   "outputs": [
    {
     "name": "stdout",
     "output_type": "stream",
     "text": [
      "Floor Division: 3\n",
      "Modulus: 3\n",
      "Exponentiation: 50625\n"
     ]
    }
   ],
   "source": [
    "print(\"Floor Division:\", a // b)     \n",
    "print(\"Modulus:\", a % b)           \n",
    "print(\"Exponentiation:\", a ** b)    "
   ]
  },
  {
   "cell_type": "markdown",
   "id": "ab315acb-d506-4594-a7d9-325e4da78127",
   "metadata": {},
   "source": [
    "# 4. Demonstrate assignment operators\n"
   ]
  },
  {
   "cell_type": "code",
   "execution_count": 4,
   "id": "85e55da1-bedd-4d62-9cd3-06e11fa772a8",
   "metadata": {},
   "outputs": [
    {
     "name": "stdout",
     "output_type": "stream",
     "text": [
      "Initial value: 10\n",
      "After +=5: 15\n",
      "After -=3: 12\n",
      "After *=2: 24\n",
      "After /=4: 6.0\n"
     ]
    }
   ],
   "source": [
    "x = 10\n",
    "print(\"Initial value:\", x)\n",
    "x += 5\n",
    "print(\"After +=5:\", x)\n",
    "x -= 3\n",
    "print(\"After -=3:\", x)\n",
    "x *= 2\n",
    "print(\"After *=2:\", x)\n",
    "x /= 4\n",
    "print(\"After /=4:\", x)"
   ]
  },
  {
   "cell_type": "markdown",
   "id": "fdf6a184-e798-4452-8cda-8855fc57745e",
   "metadata": {},
   "source": [
    "# 5. Comparison operators"
   ]
  },
  {
   "cell_type": "code",
   "execution_count": 5,
   "id": "9f1b9723-ba99-4d40-9db7-8b2a0c6b65ce",
   "metadata": {},
   "outputs": [
    {
     "name": "stdout",
     "output_type": "stream",
     "text": [
      "Equal: False\n",
      "Not Equal: True\n",
      "Greater Than: False\n",
      "Less Than: True\n",
      "Greater or Equal: False\n",
      "Less or Equal: True\n"
     ]
    }
   ],
   "source": [
    "num1 = 25\n",
    "num2 = 40\n",
    "print(\"Equal:\", num1 == num2)\n",
    "print(\"Not Equal:\", num1 != num2)\n",
    "print(\"Greater Than:\", num1 > num2)\n",
    "print(\"Less Than:\", num1 < num2)\n",
    "print(\"Greater or Equal:\", num1 >= num2)\n",
    "print(\"Less or Equal:\", num1 <= num2)"
   ]
  },
  {
   "cell_type": "markdown",
   "id": "9d70941f-fb9b-4297-8f9e-d7995e495be2",
   "metadata": {},
   "source": [
    "# 6. Area of a rectangle"
   ]
  },
  {
   "cell_type": "code",
   "execution_count": 6,
   "id": "8c25a390-5afe-4229-8163-4d52dd8965d5",
   "metadata": {},
   "outputs": [
    {
     "name": "stdout",
     "output_type": "stream",
     "text": [
      "Area of rectangle: 50\n"
     ]
    }
   ],
   "source": [
    "length = 5\n",
    "breadth = 10\n",
    "area = length * breadth\n",
    "print(\"Area of rectangle:\", area)"
   ]
  },
  {
   "cell_type": "markdown",
   "id": "e127919c-fcd9-4940-abbc-4d769015f3e5",
   "metadata": {},
   "source": [
    "# 7. Check if first number is greater"
   ]
  },
  {
   "cell_type": "code",
   "execution_count": 7,
   "id": "317c7843-d975-4989-811e-1336c4cdb9de",
   "metadata": {},
   "outputs": [
    {
     "name": "stdout",
     "output_type": "stream",
     "text": [
      "First number is greater than the second.\n"
     ]
    }
   ],
   "source": [
    "first = 14\n",
    "second = 9\n",
    "if first > second:\n",
    "    print(\"First number is greater than the second.\")\n",
    "else:\n",
    "    print(\"First number is not greater than the second.\")"
   ]
  },
  {
   "cell_type": "markdown",
   "id": "99f4d655-678c-4142-8839-dc933bb331b3",
   "metadata": {},
   "source": [
    "# 8. Marks total and average"
   ]
  },
  {
   "cell_type": "code",
   "execution_count": 8,
   "id": "49169163-6c90-4c99-829d-d234cef3ef63",
   "metadata": {},
   "outputs": [
    {
     "name": "stdout",
     "output_type": "stream",
     "text": [
      "Total Marks: 254\n",
      "Average Marks: 84.66666666666667\n"
     ]
    }
   ],
   "source": [
    "subject1 = 88\n",
    "subject2 = 76\n",
    "subject3 = 90\n",
    "total_marks = subject1 + subject2 + subject3\n",
    "average_marks = total_marks / 3\n",
    "print(\"Total Marks:\", total_marks)\n",
    "print(\"Average Marks:\", average_marks)"
   ]
  },
  {
   "cell_type": "markdown",
   "id": "4fa8343d-bf7b-46ff-94af-f93c08a3ca80",
   "metadata": {},
   "source": [
    "# 9. Print memory address using id()"
   ]
  },
  {
   "cell_type": "code",
   "execution_count": 10,
   "id": "3bc77845-ad40-4497-85ce-f64cae0cb4cd",
   "metadata": {},
   "outputs": [
    {
     "name": "stdout",
     "output_type": "stream",
     "text": [
      "Memory address of sample_var: 140714996943560\n"
     ]
    }
   ],
   "source": [
    "adr = \"data\"\n",
    "print(\"Memory address of sample_var:\", id(adr))"
   ]
  },
  {
   "cell_type": "markdown",
   "id": "64a3e76e-e51b-4bf7-a28f-ece4e2c4efae",
   "metadata": {},
   "source": [
    "# 10. Display data types using type()"
   ]
  },
  {
   "cell_type": "code",
   "execution_count": 11,
   "id": "2f8f2e77-3519-45ed-962a-2d4077401e5d",
   "metadata": {},
   "outputs": [
    {
     "name": "stdout",
     "output_type": "stream",
     "text": [
      "Type of name: <class 'str'>\n",
      "Type of age: <class 'int'>\n",
      "Type of course: <class 'str'>\n",
      "Type of average_marks: <class 'float'>\n"
     ]
    }
   ],
   "source": [
    "print(\"Type of name:\", type(name))\n",
    "print(\"Type of age:\", type(age))\n",
    "print(\"Type of course:\", type(course))\n",
    "print(\"Type of average_marks:\", type(average_marks))"
   ]
  }
 ],
 "metadata": {
  "kernelspec": {
   "display_name": "Python [conda env:base] *",
   "language": "python",
   "name": "conda-base-py"
  },
  "language_info": {
   "codemirror_mode": {
    "name": "ipython",
    "version": 3
   },
   "file_extension": ".py",
   "mimetype": "text/x-python",
   "name": "python",
   "nbconvert_exporter": "python",
   "pygments_lexer": "ipython3",
   "version": "3.13.5"
  }
 },
 "nbformat": 4,
 "nbformat_minor": 5
}
