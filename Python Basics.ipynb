{
 "cells": [
  {
   "cell_type": "markdown",
   "id": "e0d3fe18-2d5d-41bd-9eee-d796362d0e42",
   "metadata": {},
   "source": [
    "Pranjal Tiwari\n",
    "E1 Batch 3\n",
    "Roll no.= 03224402024\n",
    "BCA"
   ]
  },
  {
   "cell_type": "markdown",
   "id": "c499d72a-fcad-4171-98e7-b0deffd13d6d",
   "metadata": {},
   "source": [
    "1. Even or Odd Checker Write a function that accepts a number and prints whether it is even or odd."
   ]
  },
  {
   "cell_type": "code",
   "execution_count": 4,
   "id": "c81194a4-7d82-4942-a4c7-fee62b064709",
   "metadata": {},
   "outputs": [
    {
     "name": "stdout",
     "output_type": "stream",
     "text": [
      "The number 7 is odd.\n",
      "The number 12 is even.\n"
     ]
    }
   ],
   "source": [
    "def e_or_o(number):\n",
    "    if number % 2 == 0:\n",
    "        print(f\"The number {number} is even.\")\n",
    "    else:\n",
    "        print(f\"The number {number} is odd.\")\n",
    "e_or_o(7)\n",
    "e_or_o(12)"
   ]
  },
  {
   "cell_type": "markdown",
   "id": "83e24c38-856a-4286-9279-06430dfd0f7d",
   "metadata": {},
   "source": [
    "2. List Stats – Print Count, Sum & Average\n",
    "Create a function that accepts a list of numbers and prints:\n",
    "• Total number of elements\n",
    "• Sum of all elements\n",
    "• Average of the list"
   ]
  },
  {
   "cell_type": "code",
   "execution_count": 5,
   "id": "94823716-f6c5-4bea-b17c-d6bccefdffdc",
   "metadata": {},
   "outputs": [
    {
     "name": "stdout",
     "output_type": "stream",
     "text": [
      "Total elements: 5\n",
      "Sum of elements: 150\n",
      "Average value: 30.00\n"
     ]
    }
   ],
   "source": [
    "def l_stats(numbers):\n",
    "    count = len(numbers)\n",
    "    total_sum = sum(numbers)\n",
    "    average = total_sum / count if count != 0 else 0\n",
    "    print(f\"Total elements: {count}\")\n",
    "    print(f\"Sum of elements: {total_sum}\")\n",
    "    print(f\"Average value: {average:.2f}\")\n",
    "l_stats([10, 20, 30, 40, 50])"
   ]
  },
  {
   "cell_type": "markdown",
   "id": "723e9f7a-832b-4d54-b68c-22be4536e3b9",
   "metadata": {},
   "source": [
    "3. Attendance Analyzer\n",
    "Input: ['P', 'P', 'A', 'P', 'A']\n",
    "Print:\n",
    "• Total working days\n",
    "• Percentage of Presence and Absence\n",
    "• Status: “Pass” if presence > 75%, otherwise “Fail”"
   ]
  },
  {
   "cell_type": "code",
   "execution_count": 7,
   "id": "c66b3215-b1db-4d2a-a4aa-3335795a1cf4",
   "metadata": {},
   "outputs": [
    {
     "name": "stdout",
     "output_type": "stream",
     "text": [
      "Total working days: 5\n",
      "Presence: 60.00%\n",
      "Absence: 40.00%\n",
      "Status: Fail\n"
     ]
    }
   ],
   "source": [
    "def attendance(attendance_list):\n",
    "    total_days = len(attendance_list)\n",
    "    present_days = attendance_list.count('P')\n",
    "    absent_days = attendance_list.count('A')\n",
    "    presence_percent = (present_days / total_days) * 100 if total_days != 0 else 0\n",
    "    absence_percent = (absent_days / total_days) * 100 if total_days != 0 else 0\n",
    "    status = \"Pass\" if presence_percent > 75 else \"Fail\"\n",
    "    print(f\"Total working days: {total_days}\")\n",
    "    print(f\"Presence: {presence_percent:.2f}%\")\n",
    "    print(f\"Absence: {absence_percent:.2f}%\")\n",
    "    print(f\"Status: {status}\")\n",
    "attendance(['P', 'P', 'A', 'P', 'A'])\n"
   ]
  },
  {
   "cell_type": "markdown",
   "id": "b7c12997-ea8a-413f-9d7d-1a73cc9551cf",
   "metadata": {},
   "source": [
    "4. Grade Categorizer\n",
    "From a list of marks, print the category for each student:\n",
    "• <40: Fail\n",
    "• 40-60: Pass\n",
    "• 61–75: Merit\n",
    "• >75: Distinction"
   ]
  },
  {
   "cell_type": "code",
   "execution_count": 8,
   "id": "cc0e9add-9d9c-49bf-baa8-f1094756764f",
   "metadata": {},
   "outputs": [
    {
     "name": "stdout",
     "output_type": "stream",
     "text": [
      "Student 1: Marks = 35 → Category: Fail\n",
      "Student 2: Marks = 59 → Category: Pass\n",
      "Student 3: Marks = 72 → Category: Merit\n",
      "Student 4: Marks = 88 → Category: Distinction\n",
      "Student 5: Marks = 40 → Category: Pass\n"
     ]
    }
   ],
   "source": [
    "def grade(marks_list):\n",
    "    for i, marks in enumerate(marks_list, start=1):\n",
    "        if marks < 40:\n",
    "            category = \"Fail\"\n",
    "        elif 40 <= marks <= 60:\n",
    "            category = \"Pass\"\n",
    "        elif 61 <= marks <= 75:\n",
    "            category = \"Merit\"\n",
    "        else:\n",
    "            category = \"Distinction\"    \n",
    "        print(f\"Student {i}: Marks = {marks} → Category: {category}\")\n",
    "grade([35, 59, 72, 88, 40])"
   ]
  },
  {
   "cell_type": "markdown",
   "id": "a0522045-9f55-4a5c-ad34-c93d0abfa7ac",
   "metadata": {},
   "source": [
    "5. Print Even Numbers from List\n",
    "Write a function that accepts a list and prints only even numbers using loop and condition."
   ]
  },
  {
   "cell_type": "code",
   "execution_count": 10,
   "id": "43803e80-abc2-4595-8a2d-7098512d2f54",
   "metadata": {},
   "outputs": [
    {
     "name": "stdout",
     "output_type": "stream",
     "text": [
      "Even numbers in the list:\n",
      "22\n",
      "44\n",
      "66\n"
     ]
    }
   ],
   "source": [
    "def print_even(num_list):\n",
    "    print(\"Even numbers in the list:\")\n",
    "    for num in num_list:\n",
    "        if num % 2 == 0:\n",
    "            print(num)\n",
    "print_even([11, 22, 33, 44, 55, 66])"
   ]
  },
  {
   "cell_type": "markdown",
   "id": "b283475c-87e7-4f76-9842-8bc84f5433ab",
   "metadata": {},
   "source": [
    "6. Customer Age Bucket Classifier\n",
    "Input: list of customer ages\n",
    "Print number of customers falling in these categories:\n",
    "• <18: Minor\n",
    "• 18–40: Adult\n",
    "• 41–60: Middle-aged\n",
    "• >60: Senior"
   ]
  },
  {
   "cell_type": "code",
   "execution_count": 11,
   "id": "12d6a53f-4731-42ac-9715-46dd1ec84d8c",
   "metadata": {},
   "outputs": [
    {
     "name": "stdout",
     "output_type": "stream",
     "text": [
      "Age Bucket Summary:\n",
      "Minors (<18): 2\n",
      "Adults (18–40): 3\n",
      "Middle-aged (41–60): 2\n",
      "Seniors (>60): 2\n"
     ]
    }
   ],
   "source": [
    "def age_classifier(age_list):\n",
    "    minor = adult = middle_aged = senior = 0\n",
    "    for age in age_list:\n",
    "        if age < 18:\n",
    "            minor += 1\n",
    "        elif 18 <= age <= 40:\n",
    "            adult += 1\n",
    "        elif 41 <= age <= 60:\n",
    "            middle_aged += 1\n",
    "        else:\n",
    "            senior += 1\n",
    "    print(\"Age Bucket Summary:\")\n",
    "    print(f\"Minors (<18): {minor}\")\n",
    "    print(f\"Adults (18–40): {adult}\")\n",
    "    print(f\"Middle-aged (41–60): {middle_aged}\")\n",
    "    print(f\"Seniors (>60): {senior}\")\n",
    "age_classifier([15, 23, 45, 62, 30, 12, 59, 70, 39])"
   ]
  },
  {
   "cell_type": "markdown",
   "id": "726562a8-31b4-4306-9060-c6aee9350808",
   "metadata": {},
   "source": [
    "7. Sales Target Tracker\n",
    "Input:\n",
    "• list of 7 days’ sales\n",
    "• daily target value\n",
    "Print:\n",
    "• Days when target was achieved\n",
    "• Days when it was missed\n",
    "• Total target successes"
   ]
  },
  {
   "cell_type": "code",
   "execution_count": 12,
   "id": "0a316add-1692-4885-a3f0-07814cbbb3e5",
   "metadata": {},
   "outputs": [
    {
     "name": "stdout",
     "output_type": "stream",
     "text": [
      "Sales Target Report:\n",
      "Days target achieved: ['Day 1', 'Day 3', 'Day 4', 'Day 6']\n",
      "Days target missed: ['Day 2', 'Day 5', 'Day 7']\n",
      "Total target successes: 4\n"
     ]
    }
   ],
   "source": [
    "def target_tracker(sales_list, daily_target):\n",
    "    achieved_days = []\n",
    "    missed_days = []\n",
    "    for i, sale in enumerate(sales_list, start=1):\n",
    "        if sale >= daily_target:\n",
    "            achieved_days.append(f\"Day {i}\")\n",
    "        else:\n",
    "            missed_days.append(f\"Day {i}\")\n",
    "    print(\"Sales Target Report:\")\n",
    "    print(f\"Days target achieved: {achieved_days}\")\n",
    "    print(f\"Days target missed: {missed_days}\")\n",
    "    print(f\"Total target successes: {len(achieved_days)}\")\n",
    "target_tracker([120, 90, 100, 130, 80, 150, 95], 100)"
   ]
  },
  {
   "cell_type": "markdown",
   "id": "358896a7-7c03-4525-854c-47ab49407032",
   "metadata": {},
   "source": [
    "8. Shopping Cart Total\n",
    "Input:\n",
    "[('apple', 2, 50), ('mango', 1, 80)]\n",
    "Where each tuple = (item, quantity, price)\n",
    "Print:\n",
    "• Total cost of each item\n",
    "• Grand bill total"
   ]
  },
  {
   "cell_type": "code",
   "execution_count": 13,
   "id": "5b958b9d-9823-454a-b083-01cf2c224436",
   "metadata": {},
   "outputs": [
    {
     "name": "stdout",
     "output_type": "stream",
     "text": [
      "Itemized Bill:\n",
      "Apple → Qty: 2, Price: ₹50 → Total: ₹100\n",
      "Mango → Qty: 1, Price: ₹80 → Total: ₹80\n",
      "\n",
      "Grand Total: ₹180\n"
     ]
    }
   ],
   "source": [
    "def cart_total(cart_items):\n",
    "    grand_total = 0\n",
    "    print(\"Itemized Bill:\")\n",
    "    for item, qty, price in cart_items:\n",
    "        item_total = qty * price\n",
    "        grand_total += item_total\n",
    "        print(f\"{item.title()} → Qty: {qty}, Price: ₹{price} → Total: ₹{item_total}\")    \n",
    "    print(f\"\\nGrand Total: ₹{grand_total}\")\n",
    "cart_total([('apple', 2, 50), ('mango', 1, 80)])\n"
   ]
  },
  {
   "cell_type": "markdown",
   "id": "8bab779a-d04c-46ac-8522-d7d8bc55c62a",
   "metadata": {},
   "source": [
    "9. Nested Function – Text Processor\n",
    "Write an outer function that:\n",
    "• Accepts a string\n",
    "• Uses a nested inner function to:\n",
    "o Convert to lowercase\n",
    "o Remove punctuations (basic: . , ! ?)\n",
    "o Split into words\n",
    "Print the clean list of words."
   ]
  },
  {
   "cell_type": "code",
   "execution_count": 14,
   "id": "d64c8368-46eb-4322-96ca-96ab2aaf5642",
   "metadata": {},
   "outputs": [
    {
     "name": "stdout",
     "output_type": "stream",
     "text": [
      "Processed Words: ['hello', 'are', 'you', 'feeling', 'well', 'today']\n"
     ]
    }
   ],
   "source": [
    "def text_processor(text):\n",
    "    def clean_text(input_text):\n",
    "        input_text = input_text.lower()\n",
    "        for punct in ['.', ',', '!', '?']:\n",
    "            input_text = input_text.replace(punct, '')\n",
    "        return input_text.split()\n",
    "    cleaned_words = clean_text(text)\n",
    "    print(\"Processed Words:\", cleaned_words)\n",
    "text_processor(\"Hello! Are you feeling well today?\")"
   ]
  },
  {
   "cell_type": "markdown",
   "id": "c6d28a61-1fbd-42fa-a604-8228c7e6a75f",
   "metadata": {},
   "source": [
    "10. Profit-Loss Tracker\n",
    "Inputs:\n",
    "sales = [1000, 1200, 900]\n",
    "expenses = [700, 1100, 800]\n",
    "Print:\n",
    "• Daily profit\n",
    "• Total profit\n",
    "• Day with highest profit"
   ]
  },
  {
   "cell_type": "code",
   "execution_count": 15,
   "id": "3feef3f1-5add-4c24-be7f-f90fba1e8d89",
   "metadata": {},
   "outputs": [
    {
     "name": "stdout",
     "output_type": "stream",
     "text": [
      "Day 1: Profit = ₹300\n",
      "Day 2: Profit = ₹100\n",
      "Day 3: Profit = ₹100\n",
      "\n",
      "Total Profit: ₹500\n",
      "Highest Profit: ₹300 on Day 1\n"
     ]
    }
   ],
   "source": [
    "def profit_loss(sales, expenses):\n",
    "    daily_profits = []\n",
    "    for i in range(len(sales)):\n",
    "        profit = sales[i] - expenses[i]\n",
    "        daily_profits.append(profit)\n",
    "        print(f\"Day {i + 1}: Profit = ₹{profit}\")\n",
    "    total_profit = sum(daily_profits)\n",
    "    highest_profit = max(daily_profits)\n",
    "    best_day = daily_profits.index(highest_profit) + 1\n",
    "    print(f\"\\nTotal Profit: ₹{total_profit}\")\n",
    "    print(f\"Highest Profit: ₹{highest_profit} on Day {best_day}\")\n",
    "sales = [1000, 1200, 900]\n",
    "expenses = [700, 1100, 800]\n",
    "profit_loss(sales, expenses)"
   ]
  },
  {
   "cell_type": "markdown",
   "id": "f6ed4f72-f549-400d-8d20-f524b3ff54cf",
   "metadata": {},
   "source": [
    "Part B – List, Tuple, Dictionary Based Coding"
   ]
  },
  {
   "cell_type": "markdown",
   "id": "6ab0a6f5-a0bc-4e55-b9f5-86e04c459894",
   "metadata": {},
   "source": [
    "11. Find Max Without Using max()\n",
    "Write a function that finds the maximum value from a list using a loop."
   ]
  },
  {
   "cell_type": "code",
   "execution_count": 16,
   "id": "b08d2289-14d0-4a0e-9a64-37e0f99cb7cf",
   "metadata": {},
   "outputs": [
    {
     "name": "stdout",
     "output_type": "stream",
     "text": [
      "Maximum value in the list: 89\n"
     ]
    },
    {
     "data": {
      "text/plain": [
       "89"
      ]
     },
     "execution_count": 16,
     "metadata": {},
     "output_type": "execute_result"
    }
   ],
   "source": [
    "def max_value(numbers):\n",
    "    if not numbers:\n",
    "        print(\"The list is empty.\")\n",
    "        return None\n",
    "    max_value = numbers[0]\n",
    "    for num in numbers[1:]:\n",
    "        if num > max_value:\n",
    "            max_value = num\n",
    "    print(f\"Maximum value in the list: {max_value}\")\n",
    "    return max_value\n",
    "max_value([10, 45, 23, 89, 12])"
   ]
  },
  {
   "cell_type": "markdown",
   "id": "1f137874-6eb2-4428-9b3e-06c4b8e2d598",
   "metadata": {},
   "source": [
    "12. Manual List Reversal\n",
    "Reverse a list using loop (not .reverse() or slicing)."
   ]
  },
  {
   "cell_type": "code",
   "execution_count": 17,
   "id": "5d7d990b-1ed5-4742-97b7-b3e94ee865f1",
   "metadata": {},
   "outputs": [
    {
     "name": "stdout",
     "output_type": "stream",
     "text": [
      "Reversed List: [5, 4, 3, 2, 1]\n"
     ]
    },
    {
     "data": {
      "text/plain": [
       "[5, 4, 3, 2, 1]"
      ]
     },
     "execution_count": 17,
     "metadata": {},
     "output_type": "execute_result"
    }
   ],
   "source": [
    "def list_reversal(original_list):\n",
    "    reversed_list = []\n",
    "    for item in original_list:\n",
    "        reversed_list.insert(0, item)\n",
    "    print(\"Reversed List:\", reversed_list)\n",
    "    return reversed_list\n",
    "list_reversal([1, 2, 3, 4, 5])"
   ]
  },
  {
   "cell_type": "markdown",
   "id": "a95d6d94-becd-4a2b-a09e-702cc510b9b9",
   "metadata": {},
   "source": [
    "13. Element Frequency in List\n",
    "Input: list of elements\n",
    "Print each unique element with how many times it appears."
   ]
  },
  {
   "cell_type": "code",
   "execution_count": 20,
   "id": "97b1b147-308c-4029-a984-8a052b72ba82",
   "metadata": {},
   "outputs": [
    {
     "name": "stdout",
     "output_type": "stream",
     "text": [
      "Element Frequencies:\n",
      "apple → 3 time(s)\n",
      "banana → 2 time(s)\n",
      "orange → 1 time(s)\n"
     ]
    }
   ],
   "source": [
    "def el_frequency(elements):\n",
    "    frequency_dict = {}\n",
    "    for item in elements:\n",
    "        if item in frequency_dict:\n",
    "            frequency_dict[item] += 1\n",
    "        else:\n",
    "            frequency_dict[item] = 1\n",
    "    print(\"Element Frequencies:\")\n",
    "    for key, value in frequency_dict.items():\n",
    "        print(f\"{key} → {value} time(s)\")\n",
    "el_frequency(['apple', 'banana', 'apple', 'orange', 'banana', 'apple'])"
   ]
  },
  {
   "cell_type": "markdown",
   "id": "d2538056-0acc-4e47-b667-a4a942cd5167",
   "metadata": {},
   "source": [
    "14. Common Items Between Two Lists\n",
    "Input: two lists\n",
    "Print all items that are common between them."
   ]
  },
  {
   "cell_type": "code",
   "execution_count": 21,
   "id": "a530face-ec63-4e93-8926-7dbed2495091",
   "metadata": {},
   "outputs": [
    {
     "name": "stdout",
     "output_type": "stream",
     "text": [
      "Common Items: ['banana', 'cherry']\n"
     ]
    },
    {
     "data": {
      "text/plain": [
       "['banana', 'cherry']"
      ]
     },
     "execution_count": 21,
     "metadata": {},
     "output_type": "execute_result"
    }
   ],
   "source": [
    "def common_items(list1, list2):\n",
    "    common = []\n",
    "    for item in list1:\n",
    "        if item in list2 and item not in common:\n",
    "            common.append(item)\n",
    "    print(\"Common Items:\", common)\n",
    "    return common\n",
    "common_items(['apple', 'banana', 'cherry'], ['banana', 'cherry', 'dates'])"
   ]
  },
  {
   "cell_type": "markdown",
   "id": "414db6c5-46c0-4f54-87be-9fa71128cf32",
   "metadata": {},
   "source": [
    "15. Vowel Filter from List of Characters\n",
    "Input: ['a', 'b', 'e', 'i', 'z']\n",
    "Print only vowels from the list."
   ]
  },
  {
   "cell_type": "code",
   "execution_count": 22,
   "id": "02a602d7-82b8-4256-814b-a44bb20a543b",
   "metadata": {},
   "outputs": [
    {
     "name": "stdout",
     "output_type": "stream",
     "text": [
      "Vowels in list: ['a', 'e', 'i']\n"
     ]
    }
   ],
   "source": [
    "def vfilter(char_list):\n",
    "    vowels = ['a', 'e', 'i', 'o', 'u']\n",
    "    result = [char for char in char_list if char.lower() in vowels]\n",
    "    print(\"Vowels in list:\", result)\n",
    "vfilter(['a', 'b', 'e', 'i', 'z'])"
   ]
  },
  {
   "cell_type": "markdown",
   "id": "a047d57e-4789-4e56-a9c5-f742a9e39f1f",
   "metadata": {},
   "source": [
    "16. Sum of Dictionary Values\n",
    "Input: {'a': 10, 'b': 20}\n",
    "Print the sum of all values."
   ]
  },
  {
   "cell_type": "code",
   "execution_count": 23,
   "id": "951d3202-d7d7-4125-95a9-af586ee54528",
   "metadata": {},
   "outputs": [
    {
     "name": "stdout",
     "output_type": "stream",
     "text": [
      "Sum of all values: 30\n"
     ]
    }
   ],
   "source": [
    "def sum_dict(data):\n",
    "    total = sum(data.values())\n",
    "    print(f\"Sum of all values: {total}\")\n",
    "sum_dict({'a': 10, 'b': 20})"
   ]
  },
  {
   "cell_type": "markdown",
   "id": "d4c9b0c8-0853-4dc2-b53f-635830f3cf84",
   "metadata": {},
   "source": [
    "17. Pass/Fail Classifier\n",
    "Input: list of marks\n",
    "For each, print “Pass” if >= 40, otherwise “Fail”."
   ]
  },
  {
   "cell_type": "code",
   "execution_count": 26,
   "id": "80a2fc1b-7eb4-4543-a0fd-2df3c97f03a8",
   "metadata": {},
   "outputs": [
    {
     "name": "stdout",
     "output_type": "stream",
     "text": [
      "Student 1: Marks = 35 → Fail\n",
      "Student 2: Marks = 40 → Pass\n",
      "Student 3: Marks = 82 → Pass\n",
      "Student 4: Marks = 25 → Fail\n",
      "Student 5: Marks = 50 → Pass\n"
     ]
    }
   ],
   "source": [
    "def pass_fail(marks_list):\n",
    "    for i, marks in enumerate(marks_list, start=1):\n",
    "        result = \"Pass\" if marks >= 40 else \"Fail\"\n",
    "        print(f\"Student {i}: Marks = {marks} → {result}\")\n",
    "pass_fail([35, 40, 82, 25, 50])\n"
   ]
  },
  {
   "cell_type": "markdown",
   "id": "ce1fb830-108d-4fdc-90cb-5d4cff5cf270",
   "metadata": {},
   "source": [
    "18. Topper From Dictionary\n",
    "Input: {'A': 70, 'B': 88, 'C': 92}\n",
    "Print the name of the topper (max score)."
   ]
  },
  {
   "cell_type": "code",
   "execution_count": 27,
   "id": "0fde0008-7804-4bed-8f93-ed34b07e2138",
   "metadata": {},
   "outputs": [
    {
     "name": "stdout",
     "output_type": "stream",
     "text": [
      "Topper: C with score 92\n"
     ]
    }
   ],
   "source": [
    "def topper(score_dict):\n",
    "    topper = max(score_dict, key=score_dict.get)\n",
    "    top_score = score_dict[topper]\n",
    "    print(f\"Topper: {topper} with score {top_score}\")\n",
    "topper({'A': 70, 'B': 88, 'C': 92})"
   ]
  },
  {
   "cell_type": "markdown",
   "id": "083e76e5-c45b-4781-97b2-6f6e2099d276",
   "metadata": {},
   "source": [
    "19. List of Squares from 1 to n\n",
    "Function takes a number n and prints squares from 1 to n."
   ]
  },
  {
   "cell_type": "code",
   "execution_count": 28,
   "id": "099f29d5-7f34-485e-a654-a63a2737b692",
   "metadata": {},
   "outputs": [
    {
     "name": "stdout",
     "output_type": "stream",
     "text": [
      "Squares from 1 to 5:\n",
      "1^2 = 1\n",
      "2^2 = 4\n",
      "3^2 = 9\n",
      "4^2 = 16\n",
      "5^2 = 25\n"
     ]
    }
   ],
   "source": [
    "def squares(n):\n",
    "    print(f\"Squares from 1 to {n}:\")\n",
    "    for i in range(1, n + 1):\n",
    "        print(f\"{i}^2 = {i*i}\")\n",
    "squares(5)"
   ]
  },
  {
   "cell_type": "markdown",
   "id": "45c006d2-0ebb-4eb7-a5b9-adf05923343c",
   "metadata": {},
   "source": [
    "20. Word Frequency Counter\n",
    "Input: a sentence string\n",
    "Clean and split the string, then print how many times each word occurred."
   ]
  },
  {
   "cell_type": "code",
   "execution_count": 29,
   "id": "2655fb1d-fd78-4276-b298-f4c592dd85e4",
   "metadata": {},
   "outputs": [
    {
     "name": "stdout",
     "output_type": "stream",
     "text": [
      "Word Frequencies:\n",
      "coding → 2 time(s)\n",
      "is → 2 time(s)\n",
      "fun → 1 time(s)\n",
      "and → 1 time(s)\n",
      "powerful → 1 time(s)\n"
     ]
    }
   ],
   "source": [
    "def frequency(sentence):\n",
    "    for punct in ['.', ',', '!', '?']:\n",
    "        sentence = sentence.replace(punct, '')\n",
    "    words = sentence.lower().split()\n",
    "    freq = {}\n",
    "    for word in words:\n",
    "        freq[word] = freq.get(word, 0) + 1\n",
    "    print(\"Word Frequencies:\")\n",
    "    for word, count in freq.items():\n",
    "        print(f\"{word} → {count} time(s)\")\n",
    "frequency(\"Coding is fun, and coding is powerful!\")"
   ]
  },
  {
   "cell_type": "code",
   "execution_count": null,
   "id": "03f8ff84-a0fa-42dc-af41-c21418c78304",
   "metadata": {},
   "outputs": [],
   "source": []
  }
 ],
 "metadata": {
  "kernelspec": {
   "display_name": "Python [conda env:base] *",
   "language": "python",
   "name": "conda-base-py"
  },
  "language_info": {
   "codemirror_mode": {
    "name": "ipython",
    "version": 3
   },
   "file_extension": ".py",
   "mimetype": "text/x-python",
   "name": "python",
   "nbconvert_exporter": "python",
   "pygments_lexer": "ipython3",
   "version": "3.13.5"
  }
 },
 "nbformat": 4,
 "nbformat_minor": 5
}
